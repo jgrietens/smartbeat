{
 "cells": [
  {
   "cell_type": "code",
   "execution_count": 30,
   "metadata": {},
   "outputs": [],
   "source": [
    "import os\n",
    "from os import listdir\n",
    "from os.path import isfile, join\n",
    "from random import random\n",
    "import shutil\n",
    "\n"
   ]
  },
  {
   "cell_type": "code",
   "execution_count": 2,
   "metadata": {},
   "outputs": [],
   "source": [
    "# removed hidden directory: rm .DS_Store\n",
    "# Not sure what this is for. "
   ]
  },
  {
   "cell_type": "code",
   "execution_count": 3,
   "metadata": {},
   "outputs": [
    {
     "name": "stdout",
     "output_type": "stream",
     "text": [
      "/home/jgrietens/Documents/Load hackaton/1.0/data\n"
     ]
    }
   ],
   "source": [
    "cwd = os.getcwd()\n",
    "print(cwd)"
   ]
  },
  {
   "cell_type": "code",
   "execution_count": 4,
   "metadata": {},
   "outputs": [
    {
     "name": "stdout",
     "output_type": "stream",
     "text": [
      "/home/jgrietens/Documents/Load hackaton/1.0/data/dataset-resized-toy\n"
     ]
    }
   ],
   "source": [
    "targetpath = \"/home/jgrietens/Documents/Load hackaton/1.0/data/\" + \"dataset-resized-toy\"\n",
    "print(targetpath)"
   ]
  },
  {
   "cell_type": "code",
   "execution_count": 5,
   "metadata": {},
   "outputs": [],
   "source": [
    "#listdir = listdir(targetpath)"
   ]
  },
  {
   "cell_type": "code",
   "execution_count": 6,
   "metadata": {},
   "outputs": [
    {
     "name": "stdout",
     "output_type": "stream",
     "text": [
      "['paper', 'cardboard', 'plastic', 'glass', 'metal', 'trash']\n"
     ]
    }
   ],
   "source": [
    "material_listdir = [ d for d in listdir(targetpath)]\n",
    "print(material_listdir)"
   ]
  },
  {
   "cell_type": "code",
   "execution_count": 7,
   "metadata": {},
   "outputs": [],
   "source": [
    "targetpath_paper = targetpath +'/' + material_listdir[0]\n",
    "targetpath_cardboard =targetpath +'/' + material_listdir[1]\n",
    "targetpath_plastic = targetpath +'/' + material_listdir[2]\n",
    "targetpath_glass = targetpath +'/' + material_listdir[3]\n",
    "targetpath_metal = targetpath +'/' + material_listdir[4]\n",
    "targetpath_trash = targetpath +'/' + material_listdir[5]"
   ]
  },
  {
   "cell_type": "code",
   "execution_count": 8,
   "metadata": {},
   "outputs": [],
   "source": [
    "paper_listdir = [ f for f in listdir(targetpath_paper)]\n",
    "cardboard_lisdir = [ f for f in listdir(targetpath_cardboard)]\n",
    "plastic_listdir = [ f for f in listdir(targetpath_plastic)]\n",
    "glass_listdir = [ f for f in listdir(targetpath_glass)]\n",
    "metal_listdir = [ f for f in listdir(targetpath_metal)]\n",
    "trash_listdir = [ f for f in listdir(targetpath_trash)]"
   ]
  },
  {
   "cell_type": "code",
   "execution_count": 9,
   "metadata": {},
   "outputs": [],
   "source": [
    "def random_list(list):\n",
    "    random_list = sorted(list, key=lambda x: random())\n",
    "    return random_list"
   ]
  },
  {
   "cell_type": "code",
   "execution_count": 10,
   "metadata": {},
   "outputs": [],
   "source": [
    "#random perumatation of list\n",
    "paper_listdir_rand = random_list(paper_listdir)\n",
    "cardboard_lisdir_rand = random_list(cardboard_lisdir)\n",
    "plastic_listdir_rand = random_list(plastic_listdir)\n",
    "glass_listdir_rand = random_list(glass_listdir)\n",
    "metal_listdir_rand = random_list(metal_listdir)\n",
    "trash_listdir_rand = random_list(trash_listdir)"
   ]
  },
  {
   "cell_type": "code",
   "execution_count": 19,
   "metadata": {},
   "outputs": [],
   "source": [
    "nr_paper = len(paper_listdir_rand)\n",
    "nr_cardboard = len(cardboard_lisdir_rand)\n",
    "nr_plastic = len(plastic_listdir_rand)\n",
    "nr_glass = len(glass_listdir_rand)\n",
    "nr_metal = len(metal_listdir_rand)\n",
    "nr_trash = len(trash_listdir_rand)"
   ]
  },
  {
   "cell_type": "code",
   "execution_count": 20,
   "metadata": {},
   "outputs": [
    {
     "name": "stdout",
     "output_type": "stream",
     "text": [
      "594 403 482 501 410 137\n"
     ]
    }
   ],
   "source": [
    "print( nr_paper , nr_cardboard, nr_plastic, nr_glass, nr_metal, nr_trash)"
   ]
  },
  {
   "cell_type": "markdown",
   "metadata": {},
   "source": [
    "### Get 10 procent from every random list. "
   ]
  },
  {
   "cell_type": "code",
   "execution_count": 21,
   "metadata": {},
   "outputs": [],
   "source": [
    "procent = 10"
   ]
  },
  {
   "cell_type": "code",
   "execution_count": 24,
   "metadata": {},
   "outputs": [
    {
     "data": {
      "text/plain": [
       "int"
      ]
     },
     "execution_count": 24,
     "metadata": {},
     "output_type": "execute_result"
    }
   ],
   "source": [
    "type(round(nr_paper*procent/100))"
   ]
  },
  {
   "cell_type": "markdown",
   "metadata": {},
   "source": [
    "Create export list for each material"
   ]
  },
  {
   "cell_type": "code",
   "execution_count": 43,
   "metadata": {},
   "outputs": [],
   "source": [
    "train_export_paper = paper_listdir_rand[0:(round(nr_paper*procent/100))]\n",
    "train_export_cardboard = cardboard_lisdir_rand[0:(round(nr_cardboard*procent/100))]\n",
    "train_export_plastic = plastic_listdir_rand[0:(round(nr_plastic*procent/100))]\n",
    "train_export_glass = glass_listdir_rand[0:(round(nr_glass*procent/100))]\n",
    "train_export_metal = metal_listdir_rand[0:(round(nr_metal*procent/100))]\n",
    "train_export_trash = trash_listdir_rand[0:(round(nr_trash*procent/100))]"
   ]
  },
  {
   "cell_type": "markdown",
   "metadata": {},
   "source": [
    "### Actually move the files "
   ]
  },
  {
   "cell_type": "code",
   "execution_count": 32,
   "metadata": {},
   "outputs": [
    {
     "data": {
      "text/plain": [
       "'/home/jgrietens/Documents/Load hackaton/1.0/data/dataset-resized-toy/paper/paper468.jpg'"
      ]
     },
     "execution_count": 32,
     "metadata": {},
     "output_type": "execute_result"
    }
   ],
   "source": [
    "targetpath_paper + '/' + train_export_paper[0]"
   ]
  },
  {
   "cell_type": "code",
   "execution_count": 35,
   "metadata": {},
   "outputs": [
    {
     "name": "stdout",
     "output_type": "stream",
     "text": [
      "/home/jgrietens/Documents/Load hackaton/1.0/data/dataset-valid/\n"
     ]
    }
   ],
   "source": [
    "valid_folder =  \"/home/jgrietens/Documents/Load hackaton/1.0/data/\" + \"dataset-valid\" +\"/\"\n",
    "print(valid_folder)"
   ]
  },
  {
   "cell_type": "code",
   "execution_count": 36,
   "metadata": {},
   "outputs": [],
   "source": [
    "for f in train_export_paper: shutil.move(targetpath_paper + '/' + f, valid_folder + \"paper\" + '/' + f)"
   ]
  },
  {
   "cell_type": "code",
   "execution_count": 44,
   "metadata": {},
   "outputs": [],
   "source": [
    "for f in train_export_cardboard: shutil.move(targetpath_cardboard + '/' + f, valid_folder + \"cardboard\" + '/' + f)"
   ]
  },
  {
   "cell_type": "code",
   "execution_count": 45,
   "metadata": {},
   "outputs": [],
   "source": [
    "for f in train_export_plastic: shutil.move(targetpath_plastic + '/' + f, valid_folder + \"plastic\" + '/' + f)"
   ]
  },
  {
   "cell_type": "code",
   "execution_count": 46,
   "metadata": {},
   "outputs": [],
   "source": [
    "for f in train_export_glass: shutil.move(targetpath_glass + '/' + f, valid_folder + \"glass\" + '/' + f)"
   ]
  },
  {
   "cell_type": "code",
   "execution_count": 47,
   "metadata": {},
   "outputs": [],
   "source": [
    "for f in train_export_metal: shutil.move(targetpath_metal + '/' + f, valid_folder + \"metal\" + '/' + f)"
   ]
  },
  {
   "cell_type": "code",
   "execution_count": 48,
   "metadata": {},
   "outputs": [],
   "source": [
    "for f in train_export_trash: shutil.move(targetpath_trash + '/' + f, valid_folder + \"trash\" + '/' + f)"
   ]
  },
  {
   "cell_type": "code",
   "execution_count": null,
   "metadata": {},
   "outputs": [],
   "source": []
  }
 ],
 "metadata": {
  "kernelspec": {
   "display_name": "Python [conda env:tf-backup]",
   "language": "python",
   "name": "conda-env-tf-backup-py"
  },
  "language_info": {
   "codemirror_mode": {
    "name": "ipython",
    "version": 3
   },
   "file_extension": ".py",
   "mimetype": "text/x-python",
   "name": "python",
   "nbconvert_exporter": "python",
   "pygments_lexer": "ipython3",
   "version": "3.6.5"
  }
 },
 "nbformat": 4,
 "nbformat_minor": 2
}
