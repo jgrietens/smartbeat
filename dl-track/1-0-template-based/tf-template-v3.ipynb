{
 "cells": [
  {
   "cell_type": "code",
   "execution_count": 1,
   "metadata": {},
   "outputs": [],
   "source": [
    "import tensorflow as tf\n",
    "import numpy as np"
   ]
  },
  {
   "cell_type": "code",
   "execution_count": null,
   "metadata": {},
   "outputs": [],
   "source": []
  },
  {
   "cell_type": "code",
   "execution_count": 25,
   "metadata": {},
   "outputs": [],
   "source": [
    "import os\n",
    "cwd = os.getcwd()\n",
    "\n",
    "#Project constants\n",
    "NR_CLASSES = 6\n",
    "\n",
    "\n",
    "#Control the graph being used by creating and using the \"with\" command. \n",
    "graph1 = tf.Graph()\n",
    "with graph1.as_default():\n",
    "    with tf.name_scope(\"placeholders\"):\n",
    "        x = tf.placeholder(tf.float32, (None, 200, 3))\n",
    "        y = tf.placeholder(tf.float32, (None, 6))\n",
    "        lr = tf.placeholder(tf.float32)\n",
    "          \n",
    "    with tf.name_scope(\"global_step\"):\n",
    "        # Creates a variable to hold the global_step. Global step is a variable that is updated every time training is started. \n",
    "        global_step = tf.Variable(0, trainable=False)\n",
    "              \n",
    "    with tf.name_scope(\"layers\"):\n",
    "        #Add any layers that constitute the network.\n",
    "        x_flat = tf.contrib.layers.flatten(x)\n",
    "        logits = tf.contrib.layers.fully_connected(x_flat,num_outputs = NR_CLASSES)#layer before softmax. \n",
    "        y_pred = tf.nn.softmax(logits, axis = 1)#last layer like a softmax. \n",
    "    \n",
    "    with tf.name_scope(\"loss\"):\n",
    "        #Define the loss function that needs to be minimized. \n",
    "        entropy = tf.losses.softmax_cross_entropy(onehot_labels= y,logits= logits,reduction=tf.losses.Reduction.SUM_BY_NONZERO_WEIGHTS) #if redctuion is None shape is [batch_size], otherwise it is reduced to a scalar. i.e. sum over all the samples.\n",
    "        l = tf.reduce_sum(entropy) #combined intropy of samples in batch. \n",
    "        \n",
    "    with tf.name_scope(\"optimizer\"):\n",
    "        # define the an optimizer object.\n",
    "        train_op = tf.train.AdamOptimizer(lr).minimize(l, global_step=global_step) #global step counts the ammount of training epochs that has happened. \n",
    "        \n",
    "    with tf.name_scope(\"accuracy\"):\n",
    "        #Value usefull when comparing probability vector with one-hot label : [0; 0.30; 0.70] vs [0; 0; 1]\n",
    "        correct_prediction = tf.equal(tf.argmax(y, 1), tf.argmax(y_pred, 1)) # check if largest value of label and prediction are the same. \n",
    "        accuracy = tf.reduce_mean(tf.cast(correct_prediction, tf.float32)) # calculate accuracy.\n",
    "        \n",
    "        \n",
    "    with tf.name_scope(\"summary\"):\n",
    "        #Summary nodes( values that we want tot track ) \n",
    "        tf.summary.scalar('learning_rate', lr) \n",
    "        tf.summary.scalar('accuracy', accuracy)\n",
    "        tf.summary.scalar('loss', l)\n",
    "        tf.summary.scalar('global_step', global_step)\n",
    "        \n",
    "        #Creates an object that needs to be called in sess.run() to run all summary nodes. \n",
    "        create_summary_op = tf.summary.merge_all()\n",
    "        \n",
    "        #Write log to file for tensorboard. Start tensorboard by: tensorboard --logdir=path/to/log-directory\n",
    "        current_path =  os.path.abspath(os.getcwd())\n",
    "        logdir = (current_path + '/log') ####### create variable for log file and graph)\n",
    "        filewriter = tf.summary.FileWriter(logdir,graph1)\n",
    "\n",
    "    with tf.name_scope(\"saver\"):\n",
    "        #Creates a saver object.\n",
    "        saver = tf.train.Saver() \n",
    "        \n",
    "    with tf.name_scope(\"initializer\"):\n",
    "        #Create an initializer object to be called when running.\n",
    "        #If you are programming in the low-level TensorFlow API (that is, you are explicitly creating your own graphs and sessions), you must explicitly initialize the variables. Most high-level frameworks such as tf.contrib.slim, tf.estimator.Estimator and Keras automatically initialize variables for you before training a model.\n",
    "        init_op = tf.global_variables_initializer()"
   ]
  },
  {
   "cell_type": "code",
   "execution_count": 4,
   "metadata": {
    "collapsed": true
   },
   "outputs": [
    {
     "data": {
      "text/plain": [
       "[name: \"/device:CPU:0\"\n",
       " device_type: \"CPU\"\n",
       " memory_limit: 268435456\n",
       " locality {\n",
       " }\n",
       " incarnation: 7427020520212836596, name: \"/device:GPU:0\"\n",
       " device_type: \"GPU\"\n",
       " memory_limit: 10921197568\n",
       " locality {\n",
       "   bus_id: 1\n",
       "   links {\n",
       "     link {\n",
       "       device_id: 1\n",
       "       type: \"StreamExecutor\"\n",
       "       strength: 1\n",
       "     }\n",
       "   }\n",
       " }\n",
       " incarnation: 15146288403343276612\n",
       " physical_device_desc: \"device: 0, name: GeForce GTX 1080 Ti, pci bus id: 0000:01:00.0, compute capability: 6.1\", name: \"/device:GPU:1\"\n",
       " device_type: \"GPU\"\n",
       " memory_limit: 10921197568\n",
       " locality {\n",
       "   bus_id: 1\n",
       "   links {\n",
       "     link {\n",
       "       type: \"StreamExecutor\"\n",
       "       strength: 1\n",
       "     }\n",
       "   }\n",
       " }\n",
       " incarnation: 17371361929064334111\n",
       " physical_device_desc: \"device: 1, name: GeForce GTX 1080 Ti, pci bus id: 0000:02:00.0, compute capability: 6.1\"]"
      ]
     },
     "execution_count": 4,
     "metadata": {},
     "output_type": "execute_result"
    }
   ],
   "source": [
    "from tensorflow.python.client import device_lib\n",
    "\n",
    "device_lib.list_local_devices()"
   ]
  },
  {
   "cell_type": "code",
   "execution_count": 46,
   "metadata": {},
   "outputs": [],
   "source": [
    "#Session\n",
    "\"\"\"sess.run([fetch],{feed dict}): the fetch list determines the subgraphs to run in this session. The feeddict maps python datatypes to tf.tensors.\"\"\"\n",
    "def model_train(x_train, y_train, batch_size, nr_epochs, learning_rate, graph = tf.get_default_graph, x_test = None, y_test = None, weight_save_path = None):\n",
    "    \n",
    "    nr_samples = len(x_train)\n",
    "    nr_batches_in_dataset = nr_samples // batch_size\n",
    "     \n",
    "    \n",
    "    with tf.Session(graph= graph) as sess:\n",
    "        for epoch_count in range(1,nr_epochs+1): \n",
    "            pos = 0\n",
    "\n",
    "            print(\"nr_epoch:\",epoch_count)\n",
    "\n",
    "            for step in range(1,nr_batches_in_dataset+1):\n",
    "                #create batch data\n",
    "                x_batch= x_train[pos:pos+batch_size]\n",
    "                y_batch= y_train[pos:pos+batch_size]\n",
    "                #Training\n",
    "                \"\"\"During training for each minibatch is Minitbatch_Loss & Training accuracy are printed. If a test set is provided, the testing accuracy is calculated at the end of each epoch.\"\"\"\n",
    "                #sess.run(init_op) #initialize all variables if training is on. \n",
    "                sess.run(init_op)\n",
    "\n",
    "                feed_dict = {x: x_batch, y: y_batch, lr: learning_rate} ### create method variables for these values. Be carefull not to use same names as in this example. \n",
    "                _,summary,loss,acc=sess.run([train_op, create_summary_op, l, accuracy],feed_dict) ### is  ceate_sumary_op not running l, accuracy already ? \n",
    "\n",
    "                print(\"step %d, minibatch_loss %f, minibatch_accuracy %f\" %(step, loss, acc)) #print the values to the shell.\n",
    "\n",
    "                # Calculate at the end of the epoch: on x_test, y_test the accuracy. \n",
    "                pos = pos + batch_size\n",
    "\n",
    "            \"\"\"End-of-epoch test set calculation.\"\"\"\n",
    "            if x_test is not None and y_test is not None: \n",
    "            # Checks if data is present. And calculates the Testing accuracy if present.\n",
    "                ### Do we need to load values from model in some way????\n",
    "\n",
    "                feed_dict = {x: x_test, y: y_test} ### create method variables for these values. Be carefull not to use same names as in this example. \n",
    "                epoch_test_acc=sess.run([accuracy],feed_dict)\n",
    "\n",
    "                print(\"Test Set Accuracy:\", epoch_test_acc)\n",
    "            else: \n",
    "                print(\"No testing data was provided, can't calculate Testing Accuracy at the end of the epoch\")\n",
    "            print(\"--------------------------------------------------------------\")\n",
    "        if weight_save_path is not None:\n",
    "            \"\"\"There was a weight_save_path provided and we will write to it.\"\"\"\n",
    "            # Save the variables to disk.\n",
    "            save_path = saver.save(sess, weight_save_path, global_step= global_step, write_meta_graph=False)\n",
    "            print(\"Model saved in path: %s\" % os.path.abspath(weight_save_path))\n",
    "\n",
    "        else:\n",
    "            \"\"\"There was no save_path provided. We need to create one. \"\"\"\n",
    "            cwd = os.path.abspath(os.getcwd())\n",
    "            weight_save_path = cwd+'/temp_model'\n",
    "\n",
    "            save_path = saver.save(sess, weight_save_path, global_step= global_step, write_meta_graph=False)\n",
    "\n",
    "            print(\"No path was provided, weights not saved. Model saved int path: %s\"  % save_path)\n",
    "\n",
    "\n",
    "        # Print the global step. \n",
    "        print('global_step: %s' % tf.train.global_step(sess, global_step))\n",
    "        # Parting message.\n",
    "\n",
    "        print(\"--------------------------------------------------------------\")\n",
    "        print(\"Training is finished\")\n",
    "        print(\"--------------------------------------------------------------\")\n",
    "        print(\"--------------------------------------------------------------\")\n",
    "    \n",
    "        \n",
    "def model_predict(x_eval, weight_load_path, graph = tf.get_default_graph):\n",
    "\n",
    "    \"\"\" if weights are present, load them up.\"\"\"\n",
    "    sess = tf.Session(graph) #deliberately start a session that is not closed because this allows to not have to save and reload the sessions weights every time we call this method. \n",
    "    saver.restore(sess, weight_load_path)\n",
    "    print(\"Model restored.\")\n",
    "    y_eval = sess.run([y_pred], feed_dict = {x: x_eval})\n",
    "    return y_eval\n",
    "    \n"
   ]
  },
  {
   "cell_type": "code",
   "execution_count": null,
   "metadata": {},
   "outputs": [],
   "source": []
  },
  {
   "cell_type": "markdown",
   "metadata": {},
   "source": [
    "### Test model"
   ]
  },
  {
   "cell_type": "code",
   "execution_count": 52,
   "metadata": {},
   "outputs": [],
   "source": [
    "#toy dataset: \n",
    "k = np.transpose(np.array([range(0,200),range(0,200),range(0,200)]))\n",
    "p = np.array(range(0,6))\n",
    "\n",
    "x_train = np.array([k,k])\n",
    "y_train =  np.array([p,p])\n",
    "x_test = np.array([k,k])\n",
    "y_test = np.array([p,p])"
   ]
  },
  {
   "cell_type": "code",
   "execution_count": null,
   "metadata": {},
   "outputs": [],
   "source": []
  },
  {
   "cell_type": "code",
   "execution_count": 53,
   "metadata": {},
   "outputs": [
    {
     "data": {
      "text/plain": [
       "(2, 6)"
      ]
     },
     "execution_count": 53,
     "metadata": {},
     "output_type": "execute_result"
    }
   ],
   "source": [
    "y_test1.shape"
   ]
  },
  {
   "cell_type": "code",
   "execution_count": 54,
   "metadata": {},
   "outputs": [],
   "source": [
    "#toy input parameters\n",
    "weight_save_path = os.getcwd()\n",
    "batch_size = 2\n",
    "nr_epochs = 10\n",
    "learning_rate = 0.0001"
   ]
  },
  {
   "cell_type": "code",
   "execution_count": 55,
   "metadata": {},
   "outputs": [
    {
     "name": "stdout",
     "output_type": "stream",
     "text": [
      "nr_epoch: 1\n",
      "step 1, minibatch_loss 1071.833252, minibatch_accuracy 1.000000\n",
      "Test Set Accuracy: [1.0]\n",
      "--------------------------------------------------------------\n",
      "nr_epoch: 2\n",
      "step 1, minibatch_loss 1773.183716, minibatch_accuracy 0.000000\n",
      "Test Set Accuracy: [0.0]\n",
      "--------------------------------------------------------------\n",
      "nr_epoch: 3\n",
      "step 1, minibatch_loss 1625.939209, minibatch_accuracy 1.000000\n",
      "Test Set Accuracy: [1.0]\n",
      "--------------------------------------------------------------\n",
      "nr_epoch: 4\n",
      "step 1, minibatch_loss 2034.160767, minibatch_accuracy 0.000000\n",
      "Test Set Accuracy: [0.0]\n",
      "--------------------------------------------------------------\n",
      "nr_epoch: 5\n",
      "step 1, minibatch_loss 1464.533325, minibatch_accuracy 0.000000\n",
      "Test Set Accuracy: [0.0]\n",
      "--------------------------------------------------------------\n",
      "nr_epoch: 6\n",
      "step 1, minibatch_loss 1096.360474, minibatch_accuracy 1.000000\n",
      "Test Set Accuracy: [1.0]\n",
      "--------------------------------------------------------------\n",
      "nr_epoch: 7\n",
      "step 1, minibatch_loss 26.876392, minibatch_accuracy 0.000000\n",
      "Test Set Accuracy: [0.0]\n",
      "--------------------------------------------------------------\n",
      "nr_epoch: 8\n",
      "step 1, minibatch_loss 3119.868408, minibatch_accuracy 0.000000\n",
      "Test Set Accuracy: [0.0]\n",
      "--------------------------------------------------------------\n",
      "nr_epoch: 9\n",
      "step 1, minibatch_loss 822.969910, minibatch_accuracy 0.000000\n",
      "Test Set Accuracy: [0.0]\n",
      "--------------------------------------------------------------\n",
      "nr_epoch: 10\n",
      "step 1, minibatch_loss 594.193237, minibatch_accuracy 0.000000\n",
      "Test Set Accuracy: [0.0]\n",
      "--------------------------------------------------------------\n",
      "Model saved in path: /home/jgrietens/Documents/smartbeat/dl-track\n",
      "global_step: 1\n",
      "--------------------------------------------------------------\n",
      "Training is finished\n",
      "--------------------------------------------------------------\n",
      "--------------------------------------------------------------\n"
     ]
    }
   ],
   "source": [
    "model_train(x_train, y_train, batch_size = batch_size, nr_epochs=nr_epochs, learning_rate = learning_rate, x_test = x_test, y_test = y_test, weight_save_path = weight_save_path,graph = graph1)"
   ]
  },
  {
   "cell_type": "code",
   "execution_count": 70,
   "metadata": {
    "scrolled": true
   },
   "outputs": [
    {
     "data": {
      "text/plain": [
       "array([[0, 5, 6],\n",
       "       [0, 5, 6]])"
      ]
     },
     "execution_count": 70,
     "metadata": {},
     "output_type": "execute_result"
    }
   ],
   "source": []
  },
  {
   "cell_type": "code",
   "execution_count": null,
   "metadata": {
    "collapsed": true
   },
   "outputs": [],
   "source": []
  },
  {
   "cell_type": "code",
   "execution_count": null,
   "metadata": {
    "collapsed": true
   },
   "outputs": [],
   "source": []
  },
  {
   "cell_type": "code",
   "execution_count": null,
   "metadata": {
    "collapsed": true
   },
   "outputs": [],
   "source": []
  }
 ],
 "metadata": {
  "anaconda-cloud": {},
  "kernelspec": {
   "display_name": "Python [conda env:tf]",
   "language": "python",
   "name": "conda-env-tf-py"
  },
  "language_info": {
   "codemirror_mode": {
    "name": "ipython",
    "version": 3
   },
   "file_extension": ".py",
   "mimetype": "text/x-python",
   "name": "python",
   "nbconvert_exporter": "python",
   "pygments_lexer": "ipython3",
   "version": "3.6.5"
  }
 },
 "nbformat": 4,
 "nbformat_minor": 1
}
