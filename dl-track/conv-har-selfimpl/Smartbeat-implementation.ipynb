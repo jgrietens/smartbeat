{
 "cells": [
  {
   "cell_type": "markdown",
   "metadata": {},
   "source": [
    "## Smartbeat feature classification based on smartphone data"
   ]
  },
  {
   "cell_type": "code",
   "execution_count": 1,
   "metadata": {
    "collapsed": true
   },
   "outputs": [],
   "source": [
    "### This whole phase was copied from the digityser session and the digi-act-track"
   ]
  },
  {
   "cell_type": "markdown",
   "metadata": {},
   "source": [
    "Activity Recognition using Cell Phone Accelerometers\n",
    "Jennifer R. Kwapisz, Gary M. Weiss, Samuel A. Moore \n",
    "\n",
    "Data: http://www.cis.fordham.edu/wisdm/"
   ]
  },
  {
   "cell_type": "markdown",
   "metadata": {},
   "source": [
    "### Data"
   ]
  },
  {
   "cell_type": "markdown",
   "metadata": {},
   "source": [
    "Based on smartphone data. \n",
    "acc. data every 50ms. 20 samples/second.\n"
   ]
  },
  {
   "cell_type": "markdown",
   "metadata": {},
   "source": [
    "### Intro"
   ]
  },
  {
   "cell_type": "raw",
   "metadata": {},
   "source": [
    "There is not enough data to have a classification algorithm that works on the raw data = curse of dimensionality. This eliminates the possibility to use a deep neural network directly on the time series input data. To allow us to classify the data anayway we must reduce the dimensions of the input data. This way training a model becomes manageble. "
   ]
  },
  {
   "cell_type": "raw",
   "metadata": {},
   "source": [
    "To reduce the dimensionalty of the input we device= \n",
    "-divide data into 10 second segments. \n",
    "-calculate features on these segments. \n",
    "The results is that each 10 s segment has n features that characterize it in some way. This effectivly forms a strand of DNA for the segment."
   ]
  },
  {
   "cell_type": "markdown",
   "metadata": {},
   "source": [
    "### features"
   ]
  },
  {
   "cell_type": "raw",
   "metadata": {},
   "source": [
    "-Average[3]: average acceleration for every axis. \n",
    "-Stand. Dev[3]: standard deviation for each axis\n",
    "-Average absolute difference[3]: average over differences between mean value and all values\n",
    "-Average Resultant Acceleration[1]: average of the quare root of the sum of each value. \n",
    "-Time between peaks[3]: time in miliseconds between peaks in the sinosoidial waves associated with most activities (for eacht axis) = period of frequency with highest value in frequency analysis. \n",
    "-Binned distribution[30]: range of each axis, devide range in 10 eaqual sized piecesand we count how many samples are withing each 'bin'"
   ]
  },
  {
   "cell_type": "raw",
   "metadata": {},
   "source": [
    "In the following studies we will add features to try to improve the accurracy "
   ]
  },
  {
   "cell_type": "markdown",
   "metadata": {},
   "source": [
    "### Preprocessing of data. "
   ]
  },
  {
   "cell_type": "markdown",
   "metadata": {
    "collapsed": true
   },
   "source": [
    "Starting from raw data."
   ]
  },
  {
   "cell_type": "code",
   "execution_count": 26,
   "metadata": {
    "collapsed": false
   },
   "outputs": [],
   "source": [
    "import numpy as np\n",
    "import pandas as pd\n",
    "import matplotlib.pyplot as plt\n",
    "%matplotlib inline\n",
    "from utils import sliding_window, split_user_df\n",
    "from preprocessing import *\n",
    "from utils import sliding_window, split_user_df\n",
    "from preprocessing import resample_df\n",
    "from sklearn.model_selection import train_test_split"
   ]
  },
  {
   "cell_type": "code",
   "execution_count": 16,
   "metadata": {
    "collapsed": false
   },
   "outputs": [],
   "source": [
    "#header for the raw data: \n",
    "rawhead = [\"user\",\"activity\",\"timestamp\",\"x-acceleration\",\"y-accel\",\"z-accel\"]"
   ]
  },
  {
   "cell_type": "code",
   "execution_count": 17,
   "metadata": {
    "collapsed": true
   },
   "outputs": [],
   "source": [
    "#activity list\n",
    "act = [\"Walking\",\"Jogging\",\"Sitting\",\"Standing\",\"Upstairs\",\"Downstairs\"] "
   ]
  },
  {
   "cell_type": "code",
   "execution_count": 18,
   "metadata": {
    "collapsed": true
   },
   "outputs": [],
   "source": [
    "datpath =\"/home/ubuntu/Smartbeat/digi-act-track/data/WISDM_ar_v1.1_raw.txt\""
   ]
  },
  {
   "cell_type": "code",
   "execution_count": 10,
   "metadata": {
    "collapsed": false
   },
   "outputs": [],
   "source": [
    "#import pandas dataframe\n",
    "df = pd.read_csv(datpath, header=None, names=['user', 'label', 'timestamp', 'x', 'y', 'z'], comment=';')\n",
    "#sort the dataframe according to timestamp.\n",
    "df = df.sort_values('timestamp')\n",
    "#print information about the dataframe\n",
    "#df.info()\n",
    "#df.index"
   ]
  },
  {
   "cell_type": "code",
   "execution_count": 29,
   "metadata": {
    "collapsed": false
   },
   "outputs": [],
   "source": [
    "# The sampling rate to use\n",
    "SAMPLING_RATE = 20.0\n",
    "\n",
    "# Window length to use for classification (Samples @ 10 Hz)\n",
    "WINDOW_LENGTH = 200  \n",
    "\n",
    "# Stride length to use between windows (decrease to increase dataset size)\n",
    "WINDOW_STRIDE = WINDOW_LENGTH * 1\n",
    "\n",
    "# Mapping from label index to label name. \n",
    "IDX_TO_LABELS = df.label.unique()\n",
    "\n",
    "# Mapping from label name to label index. Dict mapping labels : index\n",
    "LABELS_TO_IDX = {label:idx for idx, label in enumerate(IDX_TO_LABELS)}"
   ]
  },
  {
   "cell_type": "code",
   "execution_count": null,
   "metadata": {
    "collapsed": true
   },
   "outputs": [],
   "source": []
  },
  {
   "cell_type": "code",
   "execution_count": 30,
   "metadata": {
    "collapsed": true
   },
   "outputs": [],
   "source": [
    "#create dataframes of length windowsize\n"
   ]
  },
  {
   "cell_type": "code",
   "execution_count": 39,
   "metadata": {
    "collapsed": false,
    "scrolled": true
   },
   "outputs": [
    {
     "name": "stdout",
     "output_type": "stream",
     "text": [
      "there are 179 groups in df_grouped\n",
      "there are 5199 windows in wdws\n",
      "there are 5199 labels in y\n",
      "there are 5199 user-ids in ids\n"
     ]
    }
   ],
   "source": [
    "# Split the label DataFrame per user\n",
    "# Group dataframe by user and label. This will provide a df for every seperate activity for every single user.\n",
    "# Creates an iterable groupby element. \n",
    "df_grouped = df.groupby(('label', 'user'))\n",
    "\n",
    "#initialization of lists.\n",
    "wdws = [] #List of df signal windows\n",
    "y = [] #list encoded label for window corresponding to wdws list\n",
    "ids = [] #list of user ID for window corresponding to wdws list\n",
    "\n",
    "# Iterate over all keys in df_grouped, store window dataframe in wdws, store label in y, store user id in ids. \n",
    "\n",
    "for (label,user), wdw in df_grouped:\n",
    "    \n",
    "    #Split wdw up in sub_wdws for different recording sessions assuming they differ when time jumps more than 1 second. \n",
    "    sub_wdws = split_user_df(wdw)\n",
    "    \n",
    "    # Throw away sub_wdws < 10s, resample, calculate sliding windows. \n",
    "    for sub_wdw in sub_wdws:\n",
    "    \n",
    "        #calculate the relative time of the dataframe in seconds (relative to the start of that dataframe.)\n",
    "        ts = (sub_wdw.timestamp-sub_wdw.timestamp.iloc[0])/1e9\n",
    "\n",
    "\n",
    "        #omit any dataframes that are less than 10s\n",
    "        if ts.iloc[-1] < 10:\n",
    "            continue\n",
    "        \n",
    "        # Resample the dataframe to a dataframe with SAMPLING_RATE\n",
    "        sub_wdw = resample_df(sub_wdw,SAMPLING_RATE)\n",
    "        \n",
    "        # Apply sliding window with window Length = (,)\n",
    "        i= 0 #beginning index of each new window. \n",
    "        a= 0\n",
    "        b= 0\n",
    "        while i < (len(sub_wdw)-WINDOW_LENGTH):\n",
    "            a= i\n",
    "            b = i + WINDOW_LENGTH\n",
    "            #print('wdw length : ' + str(len(sub_wdw)))\n",
    "            #print(str(i) + ' | a:' + str(a) +' | b:' + str(b))\n",
    "            sliced_wdw = sub_wdw.iloc[a:b] # cut a window slice of length \"WINDOW_LENGTH\" from this subframe. \n",
    "            wdws.append(sliced_wdw) # append sliced window to the global wdws list. \n",
    "            \n",
    "            # the following line uses the same 'user' and 'label' for every sliced window in this isntance of the loop. \n",
    "            ids.append(user) # append user id corresponding to this sliced window\n",
    "            y.append(LABELS_TO_IDX[label]) # append user id corresponding to this sliced window. \n",
    "            \n",
    "            #increment the counter\n",
    "            i = i + WINDOW_LENGTH\n",
    "        \n",
    "            \n",
    "\n",
    "print('there are ' + str(len(df_grouped)) + ' groups in df_grouped')\n",
    "print('there are ' + str(len(wdws)) + ' windows in wdws')\n",
    "print('there are ' + str(len(y)) + ' labels in y')\n",
    "print('there are ' + str(len(ids)) + ' user-ids in ids')\n",
    "\n",
    "    "
   ]
  },
  {
   "cell_type": "code",
   "execution_count": null,
   "metadata": {
    "collapsed": false
   },
   "outputs": [],
   "source": []
  },
  {
   "cell_type": "markdown",
   "metadata": {},
   "source": [
    "#save y to harddrive. \n",
    "y= pd.DataFrame(y)\n",
    "y.to_csv('y.csv',index = False)"
   ]
  },
  {
   "cell_type": "code",
   "execution_count": 37,
   "metadata": {
    "collapsed": false
   },
   "outputs": [],
   "source": [
    "#save the id's\n",
    "ids = pd.DataFrame(ids)\n",
    "ids.to_csv('ids_ws200.csv') #id's window size 200\n",
    "\n",
    "#save the windows\n",
    "wdws = pd.DataFrame(wdws)\n",
    "wdws.to_csv('wdws_ws200.csv') #windows window size 200\n",
    "\n",
    "#save the labels\n",
    "y = pd.DataFrame(y)\n",
    "y.to_csv('y_ws200.csv') #y with  window size 200"
   ]
  },
  {
   "cell_type": "code",
   "execution_count": 40,
   "metadata": {
    "collapsed": false
   },
   "outputs": [
    {
     "data": {
      "text/plain": [
       "13"
      ]
     },
     "execution_count": 40,
     "metadata": {},
     "output_type": "execute_result"
    },
    {
     "data": {
      "image/png": "[encoded data removed]",
      "text/plain": [
       "<matplotlib.figure.Figure at 0x7f4c5fa8aa10>"
      ]
     },
     "metadata": {},
     "output_type": "display_data"
    }
   ],
   "source": [
    "#plotting a random sample and label. \n",
    "i= 1000\n",
    "wdws[i].plot('timestamp')\n",
    "IDX_TO_LABELS[y[i]]\n",
    "ids[i]"
   ]
  },
  {
   "cell_type": "markdown",
   "metadata": {},
   "source": [
    "### Preparing feature dataframe for training"
   ]
  },
  {
   "cell_type": "code",
   "execution_count": 47,
   "metadata": {
    "collapsed": true
   },
   "outputs": [],
   "source": [
    "X = wdws"
   ]
  },
  {
   "cell_type": "code",
   "execution_count": 8,
   "metadata": {
    "collapsed": true
   },
   "outputs": [],
   "source": [
    "#X = feat_df.fillna(0) #load feature data and convert NaN to 0"
   ]
  },
  {
   "cell_type": "code",
   "execution_count": 9,
   "metadata": {
    "collapsed": false
   },
   "outputs": [],
   "source": [
    "#X = X.as_matrix() #convert to numpy array"
   ]
  },
  {
   "cell_type": "code",
   "execution_count": 10,
   "metadata": {
    "collapsed": true
   },
   "outputs": [],
   "source": [
    "#y = pd.read_csv('y.csv') #load label data"
   ]
  },
  {
   "cell_type": "code",
   "execution_count": 11,
   "metadata": {
    "collapsed": false
   },
   "outputs": [],
   "source": [
    "#y = y.as_matrix() #convert to numpy array"
   ]
  },
  {
   "cell_type": "code",
   "execution_count": 48,
   "metadata": {
    "collapsed": false
   },
   "outputs": [],
   "source": [
    "X_train,X_test, y_train,y_test = train_test_split(X, y, test_size = 0.3, shuffle=True) #split into train and test set. "
   ]
  },
  {
   "cell_type": "markdown",
   "metadata": {},
   "source": [
    "### training & prediction"
   ]
  },
  {
   "cell_type": "code",
   "execution_count": 1,
   "metadata": {
    "collapsed": false
   },
   "outputs": [
    {
     "ename": "NameError",
     "evalue": "name 'pd' is not defined",
     "output_type": "error",
     "traceback": [
      "\u001b[0;31m---------------------------------------------------------------------------\u001b[0m",
      "\u001b[0;31mNameError\u001b[0m                                 Traceback (most recent call last)",
      "\u001b[0;32m<ipython-input-1-e596b26a1f01>\u001b[0m in \u001b[0;36m<module>\u001b[0;34m()\u001b[0m\n\u001b[1;32m      1\u001b[0m \u001b[0;31m#Load data\u001b[0m\u001b[0;34m\u001b[0m\u001b[0;34m\u001b[0m\u001b[0m\n\u001b[1;32m      2\u001b[0m \u001b[0;31m#y\u001b[0m\u001b[0;34m\u001b[0m\u001b[0;34m\u001b[0m\u001b[0m\n\u001b[0;32m----> 3\u001b[0;31m \u001b[0my\u001b[0m \u001b[0;34m=\u001b[0m \u001b[0mpd\u001b[0m\u001b[0;34m.\u001b[0m\u001b[0mread_csv\u001b[0m\u001b[0;34m(\u001b[0m\u001b[0;34m'y.csv'\u001b[0m\u001b[0;34m)\u001b[0m \u001b[0;31m#load label data\u001b[0m\u001b[0;34m\u001b[0m\u001b[0m\n\u001b[0m\u001b[1;32m      4\u001b[0m \u001b[0my\u001b[0m \u001b[0;34m=\u001b[0m \u001b[0my\u001b[0m\u001b[0;34m.\u001b[0m\u001b[0mas_matrix\u001b[0m\u001b[0;34m(\u001b[0m\u001b[0;34m)\u001b[0m \u001b[0;31m#convert to numpy array\u001b[0m\u001b[0;34m\u001b[0m\u001b[0m\n\u001b[1;32m      5\u001b[0m \u001b[0;34m\u001b[0m\u001b[0m\n",
      "\u001b[0;31mNameError\u001b[0m: name 'pd' is not defined"
     ]
    }
   ],
   "source": [
    "#Load data\n",
    "#y\n",
    "y = pd.read_csv('y.csv') #load label data\n",
    "y = y.as_matrix() #convert to numpy array\n",
    "\n",
    "#X\n",
    "feat_df = pd.read_csv('data_after_tbp.csv')\n",
    "X = feat_df.fillna(0) #load feature data and convert NaN to 0\n",
    "X = X.as_matrix() #convert to numpy array\n",
    "\n",
    "#id's\n",
    "ids = pd.read_csv('ids.csv') # load ids \n",
    "ids= ids.as_matrix()"
   ]
  },
  {
   "cell_type": "markdown",
   "metadata": {},
   "source": [
    "We will use X, y and ids to perform a K-fold group split. Every group corresponds to 1 specific user. "
   ]
  },
  {
   "cell_type": "code",
   "execution_count": 49,
   "metadata": {
    "collapsed": false
   },
   "outputs": [],
   "source": [
    "from sklearn.model_selection import GroupKFold\n",
    "def fold_gen_method(): #This method generates an iterator/generator that returns 1 fold every time in the form of a train index slice and a test index slice. Every fold corresponds to a user\n",
    "    # Global Variable for the ammount of users\n",
    "    UNQ_USERS = len(pd.DataFrame(ids).iloc[:,0].unique())\n",
    "    groups = ids # The groups argument to use to fold the dataset per user. \n",
    "    group_kfold = GroupKFold(n_splits=UNQ_USERS) # Creates a groupKFold constructor object.\n",
    "    group_kfold.get_n_splits(X,y,groups) # Apply the constructor to our data. \n",
    "    fold_gen = group_kfold.split(X,y,groups) #This method generates an iterator/generator that returns 1 fold every time in the form of a train index slice and a test index slice\n",
    "    return fold_gen"
   ]
  },
  {
   "cell_type": "code",
   "execution_count": 50,
   "metadata": {
    "collapsed": true
   },
   "outputs": [],
   "source": [
    "from sklearn.ensemble import RandomForestClassifier\n",
    "from sklearn.metrics import accuracy_score"
   ]
  },
  {
   "cell_type": "markdown",
   "metadata": {},
   "source": [
    "### fit, predict and validate\n",
    "Iterate over the K folds and predict a accuracy for every model and calculate the mean preciction\n"
   ]
  },
  {
   "cell_type": "code",
   "execution_count": 57,
   "metadata": {
    "collapsed": false
   },
   "outputs": [],
   "source": [
    "def mean_std_forest_acc(fold_gen,X,y,n_estimators):\n",
    "    # Iterate over the K folds and predict a accuracy for every model and calculate the mean preciction\n",
    "    acc_vector = np.array([])\n",
    "    for train_idx, test_idx in fold_gen: \n",
    "        # Create model\n",
    "        forest = RandomForestClassifier(criterion='entropy',n_estimators=n_estimators)\n",
    "        # Set local X_train; y_train; X_test; y_test\n",
    "        X_train = X[train_idx]\n",
    "        y_train = y[train_idx]\n",
    "        X_test = X[test_idx]\n",
    "        y_test = y[test_idx]\n",
    "        # Fit model on train_index\n",
    "        forest.fit(X_train,y_train)\n",
    "        # Predict on test_idx\n",
    "        y_test_pred = forest.predict(X_test)\n",
    "        # calculate accuracy & append to vector\n",
    "        acc = accuracy_score(y_true = y_test, y_pred = y_test_pred,normalize = True )\n",
    "        acc_vector = np.append(acc_vector,acc)\n",
    "    #Calculate mean accuracy\n",
    "    mean_acc = np.mean(acc_vector)\n",
    "    std_dev = np.std(acc_vector)\n",
    "    return mean_acc,std_dev"
   ]
  },
  {
   "cell_type": "code",
   "execution_count": 53,
   "metadata": {
    "collapsed": false
   },
   "outputs": [
    {
     "name": "stderr",
     "output_type": "stream",
     "text": [
      "/home/ubuntu/anaconda2/lib/python2.7/site-packages/ipykernel/__main__.py:13: DataConversionWarning: A column-vector y was passed when a 1d array was expected. Please change the shape of y to (n_samples,), for example using ravel().\n"
     ]
    },
    {
     "name": "stdout",
     "output_type": "stream",
     "text": [
      "The mean accuracy of the model is: 0.773228807771 +/- 0.17166229668\n"
     ]
    }
   ],
   "source": [
    "fold_gen = fold_gen_method()\n",
    "mean_acc, std_dev = mean_std_forest_acc(fold_gen,X,y,n_estimators = 40) #36-fold cross validation grouped by users. \n",
    "print('The mean accuracy of the model is: ' + str(mean_acc) + ' +/- ' + str(std_dev))"
   ]
  },
  {
   "cell_type": "markdown",
   "metadata": {
    "collapsed": false
   },
   "source": [
    "### Conclusions"
   ]
  },
  {
   "cell_type": "markdown",
   "metadata": {
    "collapsed": false
   },
   "source": [
    "The original esitmation of the accuracy without k-fold cross validation obtained a result of 0.94. This was an overestimation because the model was only validated on a single set. When evaluating the accuracy of the algorithm by means of 36-fold crossvalidation and stratification by user, we find that the original accuracy of the random tree forest is only  0.77 +/- 0.17."
   ]
  },
  {
   "cell_type": "markdown",
   "metadata": {
    "collapsed": false
   },
   "source": [
    "### Hyperparameter variation."
   ]
  },
  {
   "cell_type": "markdown",
   "metadata": {
    "collapsed": true
   },
   "source": [
    "The most important hyperparameter is the ammount of trees n_estimators. The curve below plot a variation of this parameter for n_estimators = [1,20,40,60,80,100]."
   ]
  },
  {
   "cell_type": "code",
   "execution_count": 58,
   "metadata": {
    "collapsed": false
   },
   "outputs": [
    {
     "name": "stderr",
     "output_type": "stream",
     "text": [
      "/home/ubuntu/anaconda2/lib/python2.7/site-packages/ipykernel/__main__.py:13: DataConversionWarning: A column-vector y was passed when a 1d array was expected. Please change the shape of y to (n_samples,), for example using ravel().\n"
     ]
    },
    {
     "name": "stdout",
     "output_type": "stream",
     "text": [
      "0.686898125023 +/- 0.161740848283\n",
      "0.764764113163 +/- 0.173188775841\n",
      "0.7797807859 +/- 0.164930406086\n",
      "0.776029051056 +/- 0.166611260281\n",
      "0.776266502181 +/- 0.169747444689\n",
      "0.773443255506 +/- 0.174410266142\n"
     ]
    }
   ],
   "source": [
    "mean_acc_array= np.array([])\n",
    "n_estimator_array = [1,20,40,60,80,100]\n",
    "for n_estimators in n_estimator_array:\n",
    "    fold_gen = fold_gen_method()\n",
    "    mean_acc, std_dev = mean_std_forest_acc(fold_gen,X,y,n_estimators = n_estimators)\n",
    "    mean_acc_array = np.append(mean_acc_array,mean_acc)\n",
    "    print(str(mean_acc) +' +/- ' + str(std_dev))"
   ]
  },
  {
   "cell_type": "markdown",
   "metadata": {},
   "source": [
    "### Conclusions\n",
    "From the above we find that the optimal ammount of trees in the forest is 40. "
   ]
  },
  {
   "cell_type": "code",
   "execution_count": 61,
   "metadata": {
    "collapsed": false
   },
   "outputs": [
    {
     "data": {
      "text/plain": [
       "<matplotlib.text.Text at 0x7fb0cb5147d0>"
      ]
     },
     "execution_count": 61,
     "metadata": {},
     "output_type": "execute_result"
    },
    {
     "data": {
      "image/png": "[encoded data removed]",
      "text/plain": [
       "<matplotlib.figure.Figure at 0x7fb0cb57e890>"
      ]
     },
     "metadata": {},
     "output_type": "display_data"
    }
   ],
   "source": [
    "plt.plot(n_estimator_array,mean_acc_array)\n",
    "plt.xlabel('n_estimator')\n",
    "plt.ylabel('accuracy')"
   ]
  },
  {
   "cell_type": "markdown",
   "metadata": {
    "collapsed": true
   },
   "source": [
    "# SVM implementation"
   ]
  },
  {
   "cell_type": "markdown",
   "metadata": {},
   "source": [
    "## kernel = Linear"
   ]
  },
  {
   "cell_type": "markdown",
   "metadata": {},
   "source": [
    "### loading all data"
   ]
  },
  {
   "cell_type": "code",
   "execution_count": 46,
   "metadata": {
    "collapsed": false
   },
   "outputs": [],
   "source": [
    "import numpy as np\n",
    "import pandas as pd\n",
    "import matplotlib.pyplot as plt\n",
    "from sklearn.svm import SVC\n",
    "from sklearn.preprocessing import RobustScaler\n",
    "from sklearn.metrics import accuracy_score\n",
    "from mlxtend.plotting import plot_decision_regions\n",
    "%matplotlib inline\n",
    "\n",
    "#Load data\n",
    "#y\n",
    "y = pd.read_csv('y.csv') #load label data\n",
    "y = y.as_matrix() #convert to numpy array\n",
    "\n",
    "#X\n",
    "feat_df = pd.read_csv('data_after_tbp.csv')\n",
    "X = feat_df.fillna(0) #load feature data and convert NaN to 0\n",
    "X = X.as_matrix() #convert to numpy array\n",
    "\n",
    "#id's\n",
    "ids = pd.read_csv('ids.csv') # load ids \n",
    "ids= ids.as_matrix()"
   ]
  },
  {
   "cell_type": "code",
   "execution_count": 38,
   "metadata": {
    "collapsed": false
   },
   "outputs": [],
   "source": [
    "#Calculate a K-fold iterator with folds between the users. ( object return indices)\n",
    "fold_gen = fold_gen_method()"
   ]
  },
  {
   "cell_type": "markdown",
   "metadata": {},
   "source": [
    "Scaling:\n",
    "\n",
    "It turns out that the scaling of the features is crucial for the SVM to succeed in training on the data for both accuracy and computation time. \n",
    "\n",
    "It matters for computation time because the kernels of SVM's are often dependent on in products of feature vectors. Large feature values will ammount to very large values being multiplied. \n",
    "\n",
    "It matters for accuracy because in SVM you try to maximize the distance between the seperator and the support vectors. If some features are much larger they will have a larger impact on the calculated distance and hence on the placing of the seperation line. "
   ]
  },
  {
   "cell_type": "code",
   "execution_count": 39,
   "metadata": {
    "collapsed": false
   },
   "outputs": [],
   "source": [
    "def mean_std_linsvm_acc(fold_gen,X,y,C):\n",
    "    # Iterate over the K folds and predict a accuracy for every model and calculate the mean preciction\n",
    "    acc_vector = np.array([])\n",
    "    for train_idx, test_idx in fold_gen: \n",
    "        # Create model\n",
    "        global svm\n",
    "        svm = SVC(kernel='linear',C=C, random_state=0)\n",
    "        # Set local X_train; y_train; X_test; y_test\n",
    "        scaler = RobustScaler() #scale training data\n",
    "        global X_train\n",
    "        X_train = scaler.fit_transform(X[train_idx])\n",
    "        global y_train\n",
    "        y_train = y[train_idx]\n",
    "        global X_test\n",
    "        X_test = scaler.fit_transform(X[test_idx])\n",
    "        global y_test\n",
    "        y_test = y[test_idx]\n",
    "\n",
    "        # Fit model on train_index\n",
    "        svm.fit(X_train,y_train)\n",
    "        # Predict on test_idx\n",
    "        y_test_pred = svm.predict(X_test)\n",
    "        # calculate accuracy & append to vector\n",
    "        acc = accuracy_score(y_true = y_test, y_pred = y_test_pred,normalize = True )\n",
    "        acc_vector = np.append(acc_vector,acc)\n",
    "    #Calculate mean accuracy\n",
    "    mean_acc = np.mean(acc_vector)\n",
    "    std_dev = np.std(acc_vector)\n",
    "    return mean_acc,std_dev"
   ]
  },
  {
   "cell_type": "code",
   "execution_count": 40,
   "metadata": {
    "collapsed": false
   },
   "outputs": [
    {
     "name": "stdout",
     "output_type": "stream",
     "text": [
      "The mean accuracy of the model is: 0.722753996393 +/- 0.112557714223\n"
     ]
    }
   ],
   "source": [
    "mean_acc, std_dev = mean_std_linsvm_acc(fold_gen,X,y,C=1) #36-fold cross validation grouped by users. \n",
    "print('The mean accuracy of the model is: ' + str(mean_acc) + ' +/- ' + str(std_dev))"
   ]
  },
  {
   "cell_type": "markdown",
   "metadata": {
    "collapsed": false,
    "scrolled": true
   },
   "source": [
    "### Variation of hyperparameter C"
   ]
  },
  {
   "cell_type": "markdown",
   "metadata": {},
   "source": [
    "c is the inverse of the relaxation factor."
   ]
  },
  {
   "cell_type": "code",
   "execution_count": 61,
   "metadata": {
    "collapsed": false
   },
   "outputs": [
    {
     "name": "stdout",
     "output_type": "stream",
     "text": [
      "0.718802117341 +/- 0.112499474335\n",
      "0.711576335419 +/- 0.111891906698\n",
      "0.711019812892 +/- 0.111415882812\n",
      "0.722753996393 +/- 0.112557714223\n",
      "0.723751793466 +/- 0.121128956954\n",
      "0.720660697227 +/- 0.127198149091\n",
      "0.719154815163 +/- 0.128437115824\n"
     ]
    }
   ],
   "source": [
    "mean_acc_array= np.array([])\n",
    "c_array = [0.001,0.01,0.1,1,2,3,4]\n",
    "for c in c_array:\n",
    "    fold_gen = fold_gen_method()\n",
    "    mean_acc, std_dev = mean_std_linsvm_acc(fold_gen,X,y,C = c)\n",
    "    mean_acc_array = np.append(mean_acc_array,mean_acc)\n",
    "    print(str(mean_acc) +' +/- ' + str(std_dev))"
   ]
  },
  {
   "cell_type": "raw",
   "metadata": {
    "collapsed": true
   },
   "source": [
    "TODO \n",
    "SVM: -linear, - other kernel\n",
    "feature NEURAL: 2 layer, multiple architectures. \n",
    "actual neural : we will probably need to broaden the window significantly, without transfer learning/with transfer learning\n"
   ]
  },
  {
   "cell_type": "code",
   "execution_count": null,
   "metadata": {
    "collapsed": false
   },
   "outputs": [],
   "source": []
  },
  {
   "cell_type": "code",
   "execution_count": null,
   "metadata": {
    "collapsed": false
   },
   "outputs": [],
   "source": []
  },
  {
   "cell_type": "code",
   "execution_count": null,
   "metadata": {
    "collapsed": true
   },
   "outputs": [],
   "source": []
  }
 ],
 "metadata": {
  "anaconda-cloud": {},
  "kernelspec": {
   "display_name": "Python [conda root]",
   "language": "python",
   "name": "conda-root-py"
  },
  "language_info": {
   "codemirror_mode": {
    "name": "ipython",
    "version": 2
   },
   "file_extension": ".py",
   "mimetype": "text/x-python",
   "name": "python",
   "nbconvert_exporter": "python",
   "pygments_lexer": "ipython2",
   "version": "2.7.12"
  }
 },
 "nbformat": 4,
 "nbformat_minor": 1
}
