{
 "cells": [
  {
   "cell_type": "code",
   "execution_count": 3,
   "metadata": {},
   "outputs": [],
   "source": [
    "# link: https://github.com/aamini/introtodeeplearning_labs/blob/master/lab1/Lab1_Part1.ipynb\n",
    "import tensorflow as tf\n",
    "import numpy as np\n",
    "import matplotlib.pyplot as plt\n",
    "# tfe.enable_eager_execution()"
   ]
  },
  {
   "cell_type": "markdown",
   "metadata": {},
   "source": [
    "## 1.1 The computation graph"
   ]
  },
  {
   "cell_type": "code",
   "execution_count": 4,
   "metadata": {},
   "outputs": [
    {
     "name": "stdout",
     "output_type": "stream",
     "text": [
      "Tensor(\"c:0\", shape=(), dtype=int32)\n"
     ]
    }
   ],
   "source": [
    "#create nodes in a graph\n",
    "a= tf.constant(15, name=\"a\")\n",
    "b= tf.constant(61, name=\"b\")\n",
    "\n",
    "# addition\n",
    "c = tf.add(a,b, name = \"c\")\n",
    "print(c)"
   ]
  },
  {
   "cell_type": "markdown",
   "metadata": {},
   "source": [
    "### Building and executing the Computation Graph"
   ]
  },
  {
   "cell_type": "code",
   "execution_count": 6,
   "metadata": {},
   "outputs": [],
   "source": [
    "# define inputs\n",
    "a = tf.placeholder(tf.float32)\n",
    "b = tf.placeholder(tf.float32)\n",
    "\n",
    "# define outputs\n",
    "\n",
    "c = tf.add(a,b, name = \"c\")\n",
    "d = tf.subtract(b,-1, name = \"d\")\n",
    "e = tf.multiply(c,d, name = \"e\")\n"
   ]
  },
  {
   "cell_type": "code",
   "execution_count": 11,
   "metadata": {},
   "outputs": [
    {
     "name": "stdout",
     "output_type": "stream",
     "text": [
      "[20.0]\n"
     ]
    }
   ],
   "source": [
    "with tf.Session() as session: \n",
    "    a_data, b_data = 2.0,3.0\n",
    "    #define inputs\n",
    "    feed_dict = {a: a_data, b: b_data}\n",
    "    #pass data in and run the computation graph in a session\n",
    "    output = session.run([e], feed_dict = feed_dict)\n",
    "    print(output)"
   ]
  },
  {
   "cell_type": "markdown",
   "metadata": {},
   "source": [
    "### Neural Networks in TensorFlow"
   ]
  },
  {
   "cell_type": "code",
   "execution_count": 15,
   "metadata": {},
   "outputs": [],
   "source": [
    "n_input_nodes = 2\n",
    "n_output_nodes = 1\n",
    "x = tf.placeholder(tf.float32, (None, n_input_nodes))\n",
    "W = tf.Variable(tf.ones((n_input_nodes, n_output_nodes)),dtype=tf.float32)\n",
    "b = tf.Variable(tf.zeros((n_output_nodes)),dtype=tf.float32)\n",
    "\n",
    "z = tf.add(tf.matmul(x,W),b)\n",
    "\n",
    "out= tf.sigmoid(z)"
   ]
  },
  {
   "cell_type": "code",
   "execution_count": 17,
   "metadata": {},
   "outputs": [],
   "source": [
    "test_input = [[0.25,0.15]]"
   ]
  },
  {
   "cell_type": "code",
   "execution_count": 20,
   "metadata": {},
   "outputs": [
    {
     "name": "stdout",
     "output_type": "stream",
     "text": [
      "[array([[0.59868765]], dtype=float32)]\n"
     ]
    }
   ],
   "source": [
    "graph = tf.Graph()\n",
    "with tf.Session() as session:\n",
    "    tf.global_variables_initializer().run(session=session)\n",
    "    feed_dict = {x : test_input}\n",
    "    output = session.run([out], feed_dict = feed_dict)\n",
    "    print(output)\n",
    "    "
   ]
  },
  {
   "cell_type": "code",
   "execution_count": null,
   "metadata": {},
   "outputs": [],
   "source": []
  }
 ],
 "metadata": {
  "kernelspec": {
   "display_name": "Python [conda env:env2]",
   "language": "python",
   "name": "conda-env-env2-py"
  },
  "language_info": {
   "codemirror_mode": {
    "name": "ipython",
    "version": 3
   },
   "file_extension": ".py",
   "mimetype": "text/x-python",
   "name": "python",
   "nbconvert_exporter": "python",
   "pygments_lexer": "ipython3",
   "version": "3.5.2"
  }
 },
 "nbformat": 4,
 "nbformat_minor": 2
}
