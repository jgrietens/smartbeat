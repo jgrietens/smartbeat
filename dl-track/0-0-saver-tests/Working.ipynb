{
 "cells": [
  {
   "cell_type": "code",
   "execution_count": 1,
   "metadata": {},
   "outputs": [],
   "source": [
    "import tensorflow as tf\n",
    "import os\n",
    "from tensorflow.python.tools import inspect_checkpoint as chkp"
   ]
  },
  {
   "cell_type": "code",
   "execution_count": 2,
   "metadata": {},
   "outputs": [],
   "source": [
    "tf.reset_default_graph()"
   ]
  },
  {
   "cell_type": "code",
   "execution_count": 3,
   "metadata": {},
   "outputs": [],
   "source": [
    "dir = os.path.dirname(os.path.realpath('__file__'))"
   ]
  },
  {
   "cell_type": "code",
   "execution_count": 4,
   "metadata": {},
   "outputs": [],
   "source": [
    "\n",
    "w1 = tf.Variable(tf.random_normal(shape=[2]), name='w1')\n",
    "w2 = tf.Variable(tf.random_normal(shape=[5]), name='w2')\n"
   ]
  },
  {
   "cell_type": "code",
   "execution_count": 5,
   "metadata": {},
   "outputs": [],
   "source": [
    "saver = tf.train.Saver()\n",
    "sess = tf.Session()\n",
    "sess.run(tf.global_variables_initializer())\n",
    "saver.save(sess, dir +'/my_test_model')\n",
    "sess.close()\n",
    "# This will save following files in Tensorflow v >= 0.11\n",
    "# my_test_model.data-00000-of-00001\n",
    "# my_test_model.index\n",
    "# my_test_model.meta\n",
    "# checkpoint"
   ]
  },
  {
   "cell_type": "code",
   "execution_count": null,
   "metadata": {},
   "outputs": [],
   "source": [
    "#saver = tf.train.import_meta_graph('my_test_model.meta')"
   ]
  },
  {
   "cell_type": "code",
   "execution_count": 6,
   "metadata": {},
   "outputs": [
    {
     "name": "stdout",
     "output_type": "stream",
     "text": [
      "tensor_name:  w1\n",
      "[-0.93049425  1.5996703 ]\n",
      "tensor_name:  w2\n",
      "[-0.97446096 -0.9634249   0.92255086 -1.6810467   0.12729557]\n"
     ]
    }
   ],
   "source": [
    "chkp.print_tensors_in_checkpoint_file(dir +'/my_test_model', tensor_name='', all_tensors=True,all_tensor_names='')\n"
   ]
  },
  {
   "cell_type": "code",
   "execution_count": 22,
   "metadata": {},
   "outputs": [
    {
     "name": "stdout",
     "output_type": "stream",
     "text": [
      "INFO:tensorflow:Restoring parameters from /home/jgrietens/Documents/smartbeat/dl-track/0-0-saver-tests/my_test_model\n",
      "[-0.93049425  1.5996703 ]\n"
     ]
    }
   ],
   "source": [
    "sess2 = tf.Session()\n",
    "saver.restore(sess2, dir +'/my_test_model')\n",
    "print(sess2.run(w1))\n",
    "sess2.close()\n",
    "\n",
    "\n"
   ]
  },
  {
   "cell_type": "code",
   "execution_count": null,
   "metadata": {
    "scrolled": true
   },
   "outputs": [],
   "source": []
  },
  {
   "cell_type": "code",
   "execution_count": null,
   "metadata": {},
   "outputs": [],
   "source": [
    "sess2.run(w1)"
   ]
  },
  {
   "cell_type": "code",
   "execution_count": null,
   "metadata": {},
   "outputs": [],
   "source": []
  }
 ],
 "metadata": {
  "kernelspec": {
   "display_name": "Python [conda env:tf]",
   "language": "python",
   "name": "conda-env-tf-py"
  },
  "language_info": {
   "codemirror_mode": {
    "name": "ipython",
    "version": 3
   },
   "file_extension": ".py",
   "mimetype": "text/x-python",
   "name": "python",
   "nbconvert_exporter": "python",
   "pygments_lexer": "ipython3",
   "version": "3.6.5"
  }
 },
 "nbformat": 4,
 "nbformat_minor": 2
}
