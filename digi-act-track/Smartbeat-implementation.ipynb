{
 "cells": [
  {
   "cell_type": "markdown",
   "metadata": {},
   "source": [
    "## Smartbeat feature classification based on smartphone data"
   ]
  },
  {
   "cell_type": "markdown",
   "metadata": {},
   "source": [
    "Activity Recognition using Cell Phone Accelerometers\n",
    "Jennifer R. Kwapisz, Gary M. Weiss, Samuel A. Moore \n",
    "\n",
    "Data: http://www.cis.fordham.edu/wisdm/"
   ]
  },
  {
   "cell_type": "markdown",
   "metadata": {},
   "source": [
    "### Data"
   ]
  },
  {
   "cell_type": "markdown",
   "metadata": {},
   "source": [
    "Based on smartphone data. \n",
    "acc. data every 50ms. 20 samples/second.\n"
   ]
  },
  {
   "cell_type": "markdown",
   "metadata": {},
   "source": [
    "### Intro"
   ]
  },
  {
   "cell_type": "raw",
   "metadata": {},
   "source": [
    "There is not enough data to have a classification algorithm that works on the raw data = curse of dimensionality. This eliminates the possibility to use a deep neural network directly on the time series input data. To allow us to classify the data anayway we must reduce the dimensions of the input data. This way training a model becomes manageble. "
   ]
  },
  {
   "cell_type": "raw",
   "metadata": {},
   "source": [
    "To reduce the dimensionalty of the input we device= \n",
    "-divide data into 10 second segments. \n",
    "-calculate features on these segments. \n",
    "The results is that each 10 s segment has n features that characterize it in some way. This effectivly forms a strand of DNA for the segment."
   ]
  },
  {
   "cell_type": "markdown",
   "metadata": {},
   "source": [
    "### features"
   ]
  },
  {
   "cell_type": "raw",
   "metadata": {},
   "source": [
    "-Average[3]: average acceleration for every axis. \n",
    "-Stand. Dev[3]: standard deviation for each axis\n",
    "-Average absolute difference[3]: average over differences between mean value and all values\n",
    "-Average Resultant Acceleration[1]: average of the quare root of the sum of each value. \n",
    "-Time between peaks[3]: time in miliseconds between peaks in the sinosoidial waves associated with most activities (for eacht axis) = period of frequency with highest value in frequency analysis. \n",
    "-Binned distribution[30]: range of each axis, devide range in 10 eaqual sized piecesand we count how many samples are withing each 'bin'"
   ]
  },
  {
   "cell_type": "raw",
   "metadata": {},
   "source": [
    "In the following studies we will add features to try to improve the accurracy "
   ]
  },
  {
   "cell_type": "markdown",
   "metadata": {},
   "source": [
    "### Preprocessing of data. "
   ]
  },
  {
   "cell_type": "markdown",
   "metadata": {
    "collapsed": true
   },
   "source": [
    "Starting from raw data."
   ]
  },
  {
   "cell_type": "code",
   "execution_count": 1,
   "metadata": {},
   "outputs": [],
   "source": [
    "import numpy as np\n",
    "import pandas as pd\n",
    "import matplotlib.pyplot as plt\n",
    "%matplotlib inline"
   ]
  },
  {
   "cell_type": "code",
   "execution_count": 2,
   "metadata": {},
   "outputs": [],
   "source": [
    "#header for the raw data: \n",
    "rawhead = [\"user\",\"activity\",\"timestamp\",\"x-acceleration\",\"y-accel\",\"z-accel\"]"
   ]
  },
  {
   "cell_type": "code",
   "execution_count": 3,
   "metadata": {},
   "outputs": [],
   "source": [
    "#activity list\n",
    "act = [\"Walking\",\"Jogging\",\"Sitting\",\"Standing\",\"Upstairs\",\"Downstairs\"] "
   ]
  },
  {
   "cell_type": "code",
   "execution_count": 4,
   "metadata": {},
   "outputs": [],
   "source": [
    "datpath =\"/home/ubuntu/Smartbeat/digi-act-track/data/WISDM_ar_v1.1_raw.txt\""
   ]
  },
  {
   "cell_type": "code",
   "execution_count": 5,
   "metadata": {},
   "outputs": [
    {
     "name": "stdout",
     "output_type": "stream",
     "text": [
      "<class 'pandas.core.frame.DataFrame'>\n",
      "Int64Index: 1098204 entries, 882376 to 1052820\n",
      "Data columns (total 6 columns):\n",
      "user         1098204 non-null int64\n",
      "label        1098204 non-null object\n",
      "timestamp    1098204 non-null int64\n",
      "x            1098204 non-null float64\n",
      "y            1098204 non-null float64\n",
      "z            1098204 non-null float64\n",
      "dtypes: float64(3), int64(2), object(1)\n",
      "memory usage: 58.7+ MB\n"
     ]
    },
    {
     "data": {
      "text/plain": [
       "Int64Index([ 882376,  164943,  165014,  165015,  165027,  165028,  165029,\n",
       "             165061,  165062,  165074,\n",
       "            ...\n",
       "            1052811, 1052812, 1052813, 1052814, 1052815, 1052816, 1052817,\n",
       "            1052818, 1052819, 1052820],\n",
       "           dtype='int64', length=1098204)"
      ]
     },
     "execution_count": 5,
     "metadata": {},
     "output_type": "execute_result"
    }
   ],
   "source": [
    "#import pandas dataframe\n",
    "df = pd.read_csv('data/WISDM_ar_v1.1_raw.txt', header=None, names=['user', 'label', 'timestamp', 'x', 'y', 'z'], comment=';')\n",
    "#sort the dataframe according to timestamp.\n",
    "df = df.sort_values('timestamp')\n",
    "#print information about the dataframe\n",
    "df.info()\n",
    "df.index"
   ]
  },
  {
   "cell_type": "code",
   "execution_count": 6,
   "metadata": {},
   "outputs": [],
   "source": [
    "# The sampling rate to use\n",
    "SAMPLING_RATE = 20.0\n",
    "\n",
    "# Window length to use for classification (Samples @ 10 Hz)\n",
    "WINDOW_LENGTH = 100 \n",
    "\n",
    "# Stride length to use between windows (decrease to increase dataset size)\n",
    "WINDOW_STRIDE = WINDOW_LENGTH * 1\n",
    "\n",
    "# Mapping from label index to label name. \n",
    "IDX_TO_LABELS = df.label.unique()\n",
    "\n",
    "# Mapping from label name to label index. Dict mapping labels : index\n",
    "LABELS_TO_IDX = {label:idx for idx, label in enumerate(IDX_TO_LABELS)}"
   ]
  },
  {
   "cell_type": "code",
   "execution_count": null,
   "metadata": {},
   "outputs": [],
   "source": []
  },
  {
   "cell_type": "code",
   "execution_count": 7,
   "metadata": {},
   "outputs": [],
   "source": [
    "#create dataframes of length windowsize\n",
    "import numpy as np\n",
    "from utils import sliding_window, split_user_df\n",
    "from preprocessing import *"
   ]
  },
  {
   "cell_type": "code",
   "execution_count": 8,
   "metadata": {
    "scrolled": true
   },
   "outputs": [
    {
     "ename": "ValueError",
     "evalue": "Digital filter critical frequencies must be 0 < Wn < 1",
     "output_type": "error",
     "traceback": [
      "\u001b[0;31m---------------------------------------------------------------------------\u001b[0m",
      "\u001b[0;31mValueError\u001b[0m                                Traceback (most recent call last)",
      "\u001b[0;32m<ipython-input-8-c11a588842e6>\u001b[0m in \u001b[0;36m<module>\u001b[0;34m()\u001b[0m\n\u001b[1;32m     32\u001b[0m \u001b[0;34m\u001b[0m\u001b[0m\n\u001b[1;32m     33\u001b[0m         \u001b[0;31m# Resample the dataframe to a dataframe with SAMPLING_RATE\u001b[0m\u001b[0;34m\u001b[0m\u001b[0;34m\u001b[0m\u001b[0m\n\u001b[0;32m---> 34\u001b[0;31m         \u001b[0msub_wdw\u001b[0m \u001b[0;34m=\u001b[0m \u001b[0mresample_df\u001b[0m\u001b[0;34m(\u001b[0m\u001b[0msub_wdw\u001b[0m\u001b[0;34m,\u001b[0m\u001b[0mSAMPLING_RATE\u001b[0m\u001b[0;34m)\u001b[0m\u001b[0;34m\u001b[0m\u001b[0m\n\u001b[0m\u001b[1;32m     35\u001b[0m \u001b[0;34m\u001b[0m\u001b[0m\n\u001b[1;32m     36\u001b[0m         \u001b[0;31m# Apply sliding window with window Length = (,)\u001b[0m\u001b[0;34m\u001b[0m\u001b[0;34m\u001b[0m\u001b[0m\n",
      "\u001b[0;32m/home/jgrietens/Documents/smartbeat/digi-act-track/preprocessing.py\u001b[0m in \u001b[0;36mresample_df\u001b[0;34m(df, target_fs)\u001b[0m\n\u001b[1;32m    164\u001b[0m     \u001b[0mdata\u001b[0m \u001b[0;34m=\u001b[0m \u001b[0mdf\u001b[0m\u001b[0;34m.\u001b[0m\u001b[0mloc\u001b[0m\u001b[0;34m[\u001b[0m\u001b[0;34m:\u001b[0m\u001b[0;34m,\u001b[0m \u001b[0;34m[\u001b[0m\u001b[0;34m'x'\u001b[0m\u001b[0;34m,\u001b[0m \u001b[0;34m'y'\u001b[0m\u001b[0;34m,\u001b[0m \u001b[0;34m'z'\u001b[0m\u001b[0;34m]\u001b[0m\u001b[0;34m]\u001b[0m\u001b[0;34m.\u001b[0m\u001b[0mvalues\u001b[0m\u001b[0;34m\u001b[0m\u001b[0m\n\u001b[1;32m    165\u001b[0m \u001b[0;34m\u001b[0m\u001b[0m\n\u001b[0;32m--> 166\u001b[0;31m     \u001b[0mtimestamps\u001b[0m\u001b[0;34m,\u001b[0m \u001b[0mdata\u001b[0m \u001b[0;34m=\u001b[0m \u001b[0mresample\u001b[0m\u001b[0;34m(\u001b[0m\u001b[0mtimestamps\u001b[0m\u001b[0;34m,\u001b[0m \u001b[0mdata\u001b[0m\u001b[0;34m,\u001b[0m \u001b[0mtarget_fs\u001b[0m\u001b[0;34m)\u001b[0m\u001b[0;34m\u001b[0m\u001b[0m\n\u001b[0m\u001b[1;32m    167\u001b[0m \u001b[0;34m\u001b[0m\u001b[0m\n\u001b[1;32m    168\u001b[0m     \u001b[0mvalues\u001b[0m \u001b[0;34m=\u001b[0m \u001b[0mnp\u001b[0m\u001b[0;34m.\u001b[0m\u001b[0mhstack\u001b[0m\u001b[0;34m(\u001b[0m\u001b[0;34m(\u001b[0m\u001b[0mtimestamps\u001b[0m\u001b[0;34m.\u001b[0m\u001b[0mreshape\u001b[0m\u001b[0;34m(\u001b[0m\u001b[0;34m(\u001b[0m\u001b[0;34m-\u001b[0m\u001b[0;36m1\u001b[0m\u001b[0;34m,\u001b[0m \u001b[0;36m1\u001b[0m\u001b[0;34m)\u001b[0m\u001b[0;34m)\u001b[0m\u001b[0;34m,\u001b[0m \u001b[0mdata\u001b[0m\u001b[0;34m)\u001b[0m\u001b[0;34m)\u001b[0m\u001b[0;34m\u001b[0m\u001b[0m\n",
      "\u001b[0;32m/home/jgrietens/Documents/smartbeat/digi-act-track/preprocessing.py\u001b[0m in \u001b[0;36mresample\u001b[0;34m(timestamps, data, target_fs)\u001b[0m\n\u001b[1;32m    152\u001b[0m \u001b[0;34m\u001b[0m\u001b[0m\n\u001b[1;32m    153\u001b[0m     \u001b[0;31m# Apply low pass filter for half the target sampling rate\u001b[0m\u001b[0;34m\u001b[0m\u001b[0;34m\u001b[0m\u001b[0m\n\u001b[0;32m--> 154\u001b[0;31m     \u001b[0mdata\u001b[0m \u001b[0;34m=\u001b[0m \u001b[0mlow_pass\u001b[0m\u001b[0;34m(\u001b[0m\u001b[0mtimestamps\u001b[0m\u001b[0;34m,\u001b[0m \u001b[0mdata\u001b[0m\u001b[0;34m,\u001b[0m \u001b[0minterpolation_fs\u001b[0m\u001b[0;34m,\u001b[0m \u001b[0mtarget_fs\u001b[0m \u001b[0;34m/\u001b[0m \u001b[0;36m2.0\u001b[0m\u001b[0;34m)\u001b[0m\u001b[0;34m\u001b[0m\u001b[0m\n\u001b[0m\u001b[1;32m    155\u001b[0m \u001b[0;34m\u001b[0m\u001b[0m\n\u001b[1;32m    156\u001b[0m     \u001b[0;31m# Resample to the target sampling rate\u001b[0m\u001b[0;34m\u001b[0m\u001b[0;34m\u001b[0m\u001b[0m\n",
      "\u001b[0;32m/home/jgrietens/Documents/smartbeat/digi-act-track/preprocessing.py\u001b[0m in \u001b[0;36mlow_pass\u001b[0;34m(timestamps, data, fs, cutoff_fs)\u001b[0m\n\u001b[1;32m     23\u001b[0m     \u001b[0mwp\u001b[0m \u001b[0;34m=\u001b[0m \u001b[0mcutoff_fs\u001b[0m \u001b[0;34m/\u001b[0m \u001b[0;34m(\u001b[0m\u001b[0mfs\u001b[0m \u001b[0;34m/\u001b[0m \u001b[0;36m2.0\u001b[0m\u001b[0;34m)\u001b[0m\u001b[0;34m\u001b[0m\u001b[0m\n\u001b[1;32m     24\u001b[0m \u001b[0;34m\u001b[0m\u001b[0m\n\u001b[0;32m---> 25\u001b[0;31m     \u001b[0mb1\u001b[0m\u001b[0;34m,\u001b[0m \u001b[0ma1\u001b[0m \u001b[0;34m=\u001b[0m \u001b[0mbutter\u001b[0m\u001b[0;34m(\u001b[0m\u001b[0;36m2\u001b[0m\u001b[0;34m,\u001b[0m \u001b[0mwp\u001b[0m\u001b[0;34m,\u001b[0m \u001b[0;34m'low'\u001b[0m\u001b[0;34m)\u001b[0m\u001b[0;34m\u001b[0m\u001b[0m\n\u001b[0m\u001b[1;32m     26\u001b[0m \u001b[0;34m\u001b[0m\u001b[0m\n\u001b[1;32m     27\u001b[0m     \u001b[0;32mreturn\u001b[0m \u001b[0mfiltfilt\u001b[0m\u001b[0;34m(\u001b[0m\u001b[0mb1\u001b[0m\u001b[0;34m,\u001b[0m \u001b[0ma1\u001b[0m\u001b[0;34m,\u001b[0m \u001b[0mdata\u001b[0m\u001b[0;34m,\u001b[0m \u001b[0mpadtype\u001b[0m\u001b[0;34m=\u001b[0m\u001b[0;34m'constant'\u001b[0m\u001b[0;34m,\u001b[0m \u001b[0maxis\u001b[0m\u001b[0;34m=\u001b[0m\u001b[0;36m0\u001b[0m\u001b[0;34m)\u001b[0m\u001b[0;34m\u001b[0m\u001b[0m\n",
      "\u001b[0;32m/home/jgrietens/anaconda3/envs/python2/lib/python2.7/site-packages/scipy/signal/filter_design.pyc\u001b[0m in \u001b[0;36mbutter\u001b[0;34m(N, Wn, btype, analog, output)\u001b[0m\n\u001b[1;32m   2455\u001b[0m     \"\"\"\n\u001b[1;32m   2456\u001b[0m     return iirfilter(N, Wn, btype=btype, analog=analog,\n\u001b[0;32m-> 2457\u001b[0;31m                      output=output, ftype='butter')\n\u001b[0m\u001b[1;32m   2458\u001b[0m \u001b[0;34m\u001b[0m\u001b[0m\n\u001b[1;32m   2459\u001b[0m \u001b[0;34m\u001b[0m\u001b[0m\n",
      "\u001b[0;32m/home/jgrietens/anaconda3/envs/python2/lib/python2.7/site-packages/scipy/signal/filter_design.pyc\u001b[0m in \u001b[0;36miirfilter\u001b[0;34m(N, Wn, rp, rs, btype, analog, ftype, output)\u001b[0m\n\u001b[1;32m   1985\u001b[0m     \u001b[0;32mif\u001b[0m \u001b[0;32mnot\u001b[0m \u001b[0manalog\u001b[0m\u001b[0;34m:\u001b[0m\u001b[0;34m\u001b[0m\u001b[0m\n\u001b[1;32m   1986\u001b[0m         \u001b[0;32mif\u001b[0m \u001b[0mnumpy\u001b[0m\u001b[0;34m.\u001b[0m\u001b[0many\u001b[0m\u001b[0;34m(\u001b[0m\u001b[0mWn\u001b[0m \u001b[0;34m<=\u001b[0m \u001b[0;36m0\u001b[0m\u001b[0;34m)\u001b[0m \u001b[0;32mor\u001b[0m \u001b[0mnumpy\u001b[0m\u001b[0;34m.\u001b[0m\u001b[0many\u001b[0m\u001b[0;34m(\u001b[0m\u001b[0mWn\u001b[0m \u001b[0;34m>=\u001b[0m \u001b[0;36m1\u001b[0m\u001b[0;34m)\u001b[0m\u001b[0;34m:\u001b[0m\u001b[0;34m\u001b[0m\u001b[0m\n\u001b[0;32m-> 1987\u001b[0;31m             raise ValueError(\"Digital filter critical frequencies \"\n\u001b[0m\u001b[1;32m   1988\u001b[0m                              \"must be 0 < Wn < 1\")\n\u001b[1;32m   1989\u001b[0m         \u001b[0mfs\u001b[0m \u001b[0;34m=\u001b[0m \u001b[0;36m2.0\u001b[0m\u001b[0;34m\u001b[0m\u001b[0m\n",
      "\u001b[0;31mValueError\u001b[0m: Digital filter critical frequencies must be 0 < Wn < 1"
     ]
    }
   ],
   "source": [
    "import numpy as np\n",
    "from utils import sliding_window, split_user_df\n",
    "from preprocessing import resample_df\n",
    "\n",
    "# Split the label DataFrame per user\n",
    "# Group dataframe by user and label. This will provide a df for every seperate activity for every single user.\n",
    "# Creates an iterable groupby element. \n",
    "df_grouped = df.groupby(('label', 'user'))\n",
    "\n",
    "#initialization of lists.\n",
    "wdws = [] #List of df signal windows\n",
    "y = [] #list encoded label for window corresponding to wdws list\n",
    "ids = [] #list of user ID for window corresponding to wdws list\n",
    "\n",
    "# Iterate over all keys in df_grouped, store window dataframe in wdws, store label in y, store user id in ids. \n",
    "\n",
    "for (label,user), wdw in df_grouped:\n",
    "    \n",
    "    #Split wdw up in sub_wdws for different recording sessions assuming they differ when time jumps more than 1 second. \n",
    "    sub_wdws = split_user_df(wdw)\n",
    "    \n",
    "    # Throw away sub_wdws < 10s, resample, calculate sliding windows. \n",
    "    for sub_wdw in sub_wdws:\n",
    "    \n",
    "        #calculate the relative time of the dataframe in seconds (relative to the start of that dataframe.)\n",
    "        ts = (sub_wdw.timestamp-sub_wdw.timestamp.iloc[0])/1e9\n",
    "\n",
    "\n",
    "        #omit any dataframes that are less than 10s\n",
    "        if ts.iloc[-1] < 10:\n",
    "            continue\n",
    "        \n",
    "        # Resample the dataframe to a dataframe with SAMPLING_RATE\n",
    "        sub_wdw = resample_df(sub_wdw,SAMPLING_RATE)\n",
    "        \n",
    "        # Apply sliding window with window Length = (,)\n",
    "        i= 0 #beginning index of each new window. \n",
    "        a= 0\n",
    "        b= 0\n",
    "        while i < (len(sub_wdw)-WINDOW_LENGTH):\n",
    "            a= i\n",
    "            b = i + WINDOW_LENGTH\n",
    "            #print('wdw length : ' + str(len(sub_wdw)))\n",
    "            #print(str(i) + ' | a:' + str(a) +' | b:' + str(b))\n",
    "            sliced_wdw = sub_wdw.iloc[a:b] # cut a window slice of length \"WINDOW_LENGTH\" from this subframe. \n",
    "            wdws.append(sliced_wdw) # append sliced window to the global wdws list. \n",
    "            \n",
    "            # the following line uses the same 'user' and 'label' for every sliced window in this isntance of the loop. \n",
    "            ids.append(user) # append user id corresponding to this sliced window\n",
    "            y.append(LABELS_TO_IDX[label]) # append user id corresponding to this sliced window. \n",
    "            \n",
    "            #increment the counter\n",
    "            i = i + WINDOW_LENGTH\n",
    "        \n",
    "            \n",
    "\n",
    "print('there are ' + str(len(df_grouped)) + ' groups in df_grouped')\n",
    "print('there are ' + str(len(wdws)) + ' windows in wdws')\n",
    "print('there are ' + str(len(y)) + ' labels in y')\n",
    "print('there are ' + str(len(ids)) + ' user-ids in ids')\n",
    "\n",
    "    "
   ]
  },
  {
   "cell_type": "markdown",
   "metadata": {},
   "source": [
    "#save y to harddrive. \n",
    "y= pd.DataFrame(y)\n",
    "y.to_csv('y.csv',index = False)"
   ]
  },
  {
   "cell_type": "code",
   "execution_count": 45,
   "metadata": {},
   "outputs": [],
   "source": [
    "#save the id's\n",
    "ids = pd.DataFrame(ids)\n",
    "ids.to_csv('ids.csv',index = False)"
   ]
  },
  {
   "cell_type": "code",
   "execution_count": 9,
   "metadata": {},
   "outputs": [
    {
     "data": {
      "text/plain": [
       "31"
      ]
     },
     "execution_count": 9,
     "metadata": {},
     "output_type": "execute_result"
    },
    {
     "data": {
      "image/png": "[encoded data removed]",
      "text/plain": [
       "<matplotlib.figure.Figure at 0x7f9678b62cd0>"
      ]
     },
     "metadata": {},
     "output_type": "display_data"
    }
   ],
   "source": [
    "#plotting a random sample and label. \n",
    "i= 10000\n",
    "wdws[i].plot('timestamp')\n",
    "IDX_TO_LABELS[y[i]]\n",
    "ids[i]"
   ]
  },
  {
   "cell_type": "markdown",
   "metadata": {},
   "source": [
    "### calculate features."
   ]
  },
  {
   "cell_type": "markdown",
   "metadata": {
    "scrolled": false
   },
   "source": [
    "We will apply a forward feature selection process. This means that we start with a limited set of features and make a prediction. We note the accuracy that is obtained. \n",
    "\n",
    "After this, we add a feature and repeat the assesment of the accuracy. The feature is selected based on it's contribution to an increasing accuracy. We repeat this process untill the desired accuracy is obtained. \n",
    "\n",
    "Forward feature selection is the opposite of backward feature selection where you start with a lot of features and drop them iteratevly en select by assesing the decline of the accuracy. "
   ]
  },
  {
   "cell_type": "markdown",
   "metadata": {
    "collapsed": true
   },
   "source": [
    "### Average (for each axis)"
   ]
  },
  {
   "cell_type": "markdown",
   "metadata": {},
   "source": [
    "The average over each axis is calculated. (No normalization is performed) "
   ]
  },
  {
   "cell_type": "code",
   "execution_count": 10,
   "metadata": {},
   "outputs": [],
   "source": [
    "#create mean for each window and put in list temp_mean_list\n",
    "temp_mean_list =[(wdws[i].x.mean(),wdws[i].y.mean(),wdws[i].z.mean()) for i in range(0,len(wdws))]\n",
    "#convert temp_mean_list to dataframe mean_df\n",
    "mean_df = pd.DataFrame(data=temp_mean_list, columns = ['av_x','av_y','av_z'])"
   ]
  },
  {
   "cell_type": "code",
   "execution_count": 11,
   "metadata": {},
   "outputs": [
    {
     "data": {
      "text/html": [
       "<div>\n",
       "<table border=\"1\" class=\"dataframe\">\n",
       "  <thead>\n",
       "    <tr style=\"text-align: right;\">\n",
       "      <th></th>\n",
       "      <th>av_x</th>\n",
       "      <th>av_y</th>\n",
       "      <th>av_z</th>\n",
       "    </tr>\n",
       "  </thead>\n",
       "  <tbody>\n",
       "    <tr>\n",
       "      <th>0</th>\n",
       "      <td>-1.947567</td>\n",
       "      <td>9.833762</td>\n",
       "      <td>1.960378</td>\n",
       "    </tr>\n",
       "    <tr>\n",
       "      <th>1</th>\n",
       "      <td>-6.990994</td>\n",
       "      <td>7.945942</td>\n",
       "      <td>0.690731</td>\n",
       "    </tr>\n",
       "    <tr>\n",
       "      <th>2</th>\n",
       "      <td>-8.802782</td>\n",
       "      <td>5.551300</td>\n",
       "      <td>0.845816</td>\n",
       "    </tr>\n",
       "    <tr>\n",
       "      <th>3</th>\n",
       "      <td>-8.818716</td>\n",
       "      <td>5.741674</td>\n",
       "      <td>1.019364</td>\n",
       "    </tr>\n",
       "    <tr>\n",
       "      <th>4</th>\n",
       "      <td>-9.068934</td>\n",
       "      <td>5.703533</td>\n",
       "      <td>0.866024</td>\n",
       "    </tr>\n",
       "  </tbody>\n",
       "</table>\n",
       "</div>"
      ],
      "text/plain": [
       "       av_x      av_y      av_z\n",
       "0 -1.947567  9.833762  1.960378\n",
       "1 -6.990994  7.945942  0.690731\n",
       "2 -8.802782  5.551300  0.845816\n",
       "3 -8.818716  5.741674  1.019364\n",
       "4 -9.068934  5.703533  0.866024"
      ]
     },
     "execution_count": 11,
     "metadata": {},
     "output_type": "execute_result"
    }
   ],
   "source": [
    "mean_df.head()"
   ]
  },
  {
   "cell_type": "code",
   "execution_count": 3,
   "metadata": {},
   "outputs": [
    {
     "ename": "NameError",
     "evalue": "name 'mean_df' is not defined",
     "output_type": "error",
     "traceback": [
      "\u001b[0;31m---------------------------------------------------------------------------\u001b[0m",
      "\u001b[0;31mNameError\u001b[0m                                 Traceback (most recent call last)",
      "\u001b[0;32m<ipython-input-3-060c35036d1d>\u001b[0m in \u001b[0;36m<module>\u001b[0;34m()\u001b[0m\n\u001b[1;32m      1\u001b[0m \u001b[0;31m#concatenate mean_df to feat_df\u001b[0m\u001b[0;34m\u001b[0m\u001b[0;34m\u001b[0m\u001b[0m\n\u001b[0;32m----> 2\u001b[0;31m \u001b[0mfeat_df\u001b[0m \u001b[0;34m=\u001b[0m \u001b[0mmean_df\u001b[0m \u001b[0;31m#later reference: result = pd.concat([df1, df4], axis=1)\u001b[0m\u001b[0;34m\u001b[0m\u001b[0m\n\u001b[0m",
      "\u001b[0;31mNameError\u001b[0m: name 'mean_df' is not defined"
     ]
    }
   ],
   "source": [
    "#concatenate mean_df to feat_df\n",
    "feat_df = mean_df #later reference: result = pd.concat([df1, df4], axis=1)"
   ]
  },
  {
   "cell_type": "markdown",
   "metadata": {},
   "source": [
    "### Std Deviation"
   ]
  },
  {
   "cell_type": "code",
   "execution_count": 13,
   "metadata": {
    "collapsed": true
   },
   "outputs": [],
   "source": [
    "temp_stdev_list = [(wdws[i].x.std(),wdws[i].y.std(),wdws[i].z.std()) for i in range(0,len(wdws))]"
   ]
  },
  {
   "cell_type": "code",
   "execution_count": 14,
   "metadata": {},
   "outputs": [],
   "source": [
    "stdev_df = pd.DataFrame(data = temp_stdev_list, columns = ['stdev_x','stdev_y','stdev_z'])"
   ]
  },
  {
   "cell_type": "code",
   "execution_count": 15,
   "metadata": {},
   "outputs": [],
   "source": [
    "#concatenate mean_df to feat_df\n",
    "feat_df = pd.concat([feat_df, stdev_df], axis=1)"
   ]
  },
  {
   "cell_type": "markdown",
   "metadata": {},
   "source": [
    "### Average absolute difference = mean absolute deveation"
   ]
  },
  {
   "cell_type": "markdown",
   "metadata": {},
   "source": [
    "Average absolute difference between the value of each of the 200 readings within the ED and the mean value over those 200 values(for each axis)."
   ]
  },
  {
   "cell_type": "code",
   "execution_count": 16,
   "metadata": {
    "collapsed": true
   },
   "outputs": [],
   "source": [
    "temp_mad_list = [(wdws[i].x.mad(),wdws[i].y.mad(),wdws[i].z.mad()) for i in range(0,len(wdws))]"
   ]
  },
  {
   "cell_type": "code",
   "execution_count": 17,
   "metadata": {
    "collapsed": true
   },
   "outputs": [],
   "source": [
    "mad_df = pd.DataFrame(data = temp_mad_list, columns = ['mad_x','mad_y','mad_z'])"
   ]
  },
  {
   "cell_type": "code",
   "execution_count": 18,
   "metadata": {
    "collapsed": true
   },
   "outputs": [],
   "source": [
    "#concatenate mean_df to feat_df\n",
    "feat_df = pd.concat([feat_df,mad_df], axis=1)"
   ]
  },
  {
   "cell_type": "code",
   "execution_count": 19,
   "metadata": {},
   "outputs": [
    {
     "data": {
      "text/html": [
       "<div>\n",
       "<table border=\"1\" class=\"dataframe\">\n",
       "  <thead>\n",
       "    <tr style=\"text-align: right;\">\n",
       "      <th></th>\n",
       "      <th>av_x</th>\n",
       "      <th>av_y</th>\n",
       "      <th>av_z</th>\n",
       "      <th>stdev_x</th>\n",
       "      <th>stdev_y</th>\n",
       "      <th>stdev_z</th>\n",
       "      <th>mad_x</th>\n",
       "      <th>mad_y</th>\n",
       "      <th>mad_z</th>\n",
       "    </tr>\n",
       "  </thead>\n",
       "  <tbody>\n",
       "    <tr>\n",
       "      <th>0</th>\n",
       "      <td>-1.947567</td>\n",
       "      <td>9.833762</td>\n",
       "      <td>1.960378</td>\n",
       "      <td>3.292994</td>\n",
       "      <td>4.189694</td>\n",
       "      <td>4.214619</td>\n",
       "      <td>2.637472</td>\n",
       "      <td>3.412507</td>\n",
       "      <td>3.331594</td>\n",
       "    </tr>\n",
       "    <tr>\n",
       "      <th>1</th>\n",
       "      <td>-6.990994</td>\n",
       "      <td>7.945942</td>\n",
       "      <td>0.690731</td>\n",
       "      <td>4.333977</td>\n",
       "      <td>4.048604</td>\n",
       "      <td>3.088699</td>\n",
       "      <td>3.599914</td>\n",
       "      <td>3.398023</td>\n",
       "      <td>2.415842</td>\n",
       "    </tr>\n",
       "    <tr>\n",
       "      <th>2</th>\n",
       "      <td>-8.802782</td>\n",
       "      <td>5.551300</td>\n",
       "      <td>0.845816</td>\n",
       "      <td>4.266730</td>\n",
       "      <td>4.511960</td>\n",
       "      <td>2.908426</td>\n",
       "      <td>3.481611</td>\n",
       "      <td>3.828914</td>\n",
       "      <td>2.400074</td>\n",
       "    </tr>\n",
       "    <tr>\n",
       "      <th>3</th>\n",
       "      <td>-8.818716</td>\n",
       "      <td>5.741674</td>\n",
       "      <td>1.019364</td>\n",
       "      <td>4.145614</td>\n",
       "      <td>4.162139</td>\n",
       "      <td>2.680245</td>\n",
       "      <td>3.347830</td>\n",
       "      <td>3.500669</td>\n",
       "      <td>2.203985</td>\n",
       "    </tr>\n",
       "    <tr>\n",
       "      <th>4</th>\n",
       "      <td>-9.068934</td>\n",
       "      <td>5.703533</td>\n",
       "      <td>0.866024</td>\n",
       "      <td>4.793156</td>\n",
       "      <td>4.370510</td>\n",
       "      <td>3.262572</td>\n",
       "      <td>3.694098</td>\n",
       "      <td>3.576835</td>\n",
       "      <td>2.533819</td>\n",
       "    </tr>\n",
       "  </tbody>\n",
       "</table>\n",
       "</div>"
      ],
      "text/plain": [
       "       av_x      av_y      av_z   stdev_x   stdev_y   stdev_z     mad_x  \\\n",
       "0 -1.947567  9.833762  1.960378  3.292994  4.189694  4.214619  2.637472   \n",
       "1 -6.990994  7.945942  0.690731  4.333977  4.048604  3.088699  3.599914   \n",
       "2 -8.802782  5.551300  0.845816  4.266730  4.511960  2.908426  3.481611   \n",
       "3 -8.818716  5.741674  1.019364  4.145614  4.162139  2.680245  3.347830   \n",
       "4 -9.068934  5.703533  0.866024  4.793156  4.370510  3.262572  3.694098   \n",
       "\n",
       "      mad_y     mad_z  \n",
       "0  3.412507  3.331594  \n",
       "1  3.398023  2.415842  \n",
       "2  3.828914  2.400074  \n",
       "3  3.500669  2.203985  \n",
       "4  3.576835  2.533819  "
      ]
     },
     "execution_count": 19,
     "metadata": {},
     "output_type": "execute_result"
    }
   ],
   "source": [
    "feat_df.head()"
   ]
  },
  {
   "cell_type": "markdown",
   "metadata": {},
   "source": [
    "### Average Resultant Acceleration"
   ]
  },
  {
   "cell_type": "code",
   "execution_count": 20,
   "metadata": {
    "scrolled": true
   },
   "outputs": [],
   "source": [
    "#list of average resultant acceleration\n",
    "temp_ara_list = [wdws[i].apply(lambda x: np.sqrt(x.dot(x)), axis = 1).mean() for i in range(0,len(wdws))]"
   ]
  },
  {
   "cell_type": "code",
   "execution_count": 21,
   "metadata": {},
   "outputs": [],
   "source": [
    "ara_df = pd.DataFrame(data = temp_ara_list, columns = ['ara'])"
   ]
  },
  {
   "cell_type": "code",
   "execution_count": 22,
   "metadata": {
    "collapsed": true
   },
   "outputs": [],
   "source": [
    "#concatenate mean_df to feat_df\n",
    "feat_df = pd.concat([feat_df,ara_df], axis=1)"
   ]
  },
  {
   "cell_type": "code",
   "execution_count": 23,
   "metadata": {},
   "outputs": [
    {
     "data": {
      "text/html": [
       "<div>\n",
       "<table border=\"1\" class=\"dataframe\">\n",
       "  <thead>\n",
       "    <tr style=\"text-align: right;\">\n",
       "      <th></th>\n",
       "      <th>av_x</th>\n",
       "      <th>av_y</th>\n",
       "      <th>av_z</th>\n",
       "      <th>stdev_x</th>\n",
       "      <th>stdev_y</th>\n",
       "      <th>stdev_z</th>\n",
       "      <th>mad_x</th>\n",
       "      <th>mad_y</th>\n",
       "      <th>mad_z</th>\n",
       "      <th>ara</th>\n",
       "    </tr>\n",
       "  </thead>\n",
       "  <tbody>\n",
       "    <tr>\n",
       "      <th>0</th>\n",
       "      <td>-1.947567</td>\n",
       "      <td>9.833762</td>\n",
       "      <td>1.960378</td>\n",
       "      <td>3.292994</td>\n",
       "      <td>4.189694</td>\n",
       "      <td>4.214619</td>\n",
       "      <td>2.637472</td>\n",
       "      <td>3.412507</td>\n",
       "      <td>3.331594</td>\n",
       "      <td>6.555417e+12</td>\n",
       "    </tr>\n",
       "    <tr>\n",
       "      <th>1</th>\n",
       "      <td>-6.990994</td>\n",
       "      <td>7.945942</td>\n",
       "      <td>0.690731</td>\n",
       "      <td>4.333977</td>\n",
       "      <td>4.048604</td>\n",
       "      <td>3.088699</td>\n",
       "      <td>3.599914</td>\n",
       "      <td>3.398023</td>\n",
       "      <td>2.415842</td>\n",
       "      <td>6.560417e+12</td>\n",
       "    </tr>\n",
       "    <tr>\n",
       "      <th>2</th>\n",
       "      <td>-8.802782</td>\n",
       "      <td>5.551300</td>\n",
       "      <td>0.845816</td>\n",
       "      <td>4.266730</td>\n",
       "      <td>4.511960</td>\n",
       "      <td>2.908426</td>\n",
       "      <td>3.481611</td>\n",
       "      <td>3.828914</td>\n",
       "      <td>2.400074</td>\n",
       "      <td>6.565417e+12</td>\n",
       "    </tr>\n",
       "    <tr>\n",
       "      <th>3</th>\n",
       "      <td>-8.818716</td>\n",
       "      <td>5.741674</td>\n",
       "      <td>1.019364</td>\n",
       "      <td>4.145614</td>\n",
       "      <td>4.162139</td>\n",
       "      <td>2.680245</td>\n",
       "      <td>3.347830</td>\n",
       "      <td>3.500669</td>\n",
       "      <td>2.203985</td>\n",
       "      <td>6.570417e+12</td>\n",
       "    </tr>\n",
       "    <tr>\n",
       "      <th>4</th>\n",
       "      <td>-9.068934</td>\n",
       "      <td>5.703533</td>\n",
       "      <td>0.866024</td>\n",
       "      <td>4.793156</td>\n",
       "      <td>4.370510</td>\n",
       "      <td>3.262572</td>\n",
       "      <td>3.694098</td>\n",
       "      <td>3.576835</td>\n",
       "      <td>2.533819</td>\n",
       "      <td>6.575417e+12</td>\n",
       "    </tr>\n",
       "  </tbody>\n",
       "</table>\n",
       "</div>"
      ],
      "text/plain": [
       "       av_x      av_y      av_z   stdev_x   stdev_y   stdev_z     mad_x  \\\n",
       "0 -1.947567  9.833762  1.960378  3.292994  4.189694  4.214619  2.637472   \n",
       "1 -6.990994  7.945942  0.690731  4.333977  4.048604  3.088699  3.599914   \n",
       "2 -8.802782  5.551300  0.845816  4.266730  4.511960  2.908426  3.481611   \n",
       "3 -8.818716  5.741674  1.019364  4.145614  4.162139  2.680245  3.347830   \n",
       "4 -9.068934  5.703533  0.866024  4.793156  4.370510  3.262572  3.694098   \n",
       "\n",
       "      mad_y     mad_z           ara  \n",
       "0  3.412507  3.331594  6.555417e+12  \n",
       "1  3.398023  2.415842  6.560417e+12  \n",
       "2  3.828914  2.400074  6.565417e+12  \n",
       "3  3.500669  2.203985  6.570417e+12  \n",
       "4  3.576835  2.533819  6.575417e+12  "
      ]
     },
     "execution_count": 23,
     "metadata": {},
     "output_type": "execute_result"
    }
   ],
   "source": [
    "feat_df.head()"
   ]
  },
  {
   "cell_type": "markdown",
   "metadata": {},
   "source": [
    "### Time between peaks"
   ]
  },
  {
   "cell_type": "markdown",
   "metadata": {},
   "source": [
    "Time in milliseconds between peaks in the sinusoidal waves associated with most\n",
    "activities. (for each axis) "
   ]
  },
  {
   "cell_type": "markdown",
   "metadata": {},
   "source": [
    "The repetitive activities, like walking, tend to generate repeating\n",
    "waves for each axis and this feature tries to measure the time\n",
    "between successive peaks. To estimate this value, for each\n",
    "example we first identify all of the peaks in the wave using a\n",
    "heuristic method and then identify the highest peak for each axis.\n",
    "We then set a threshold based on a percentage of this value and\n",
    "find the other peaks that met or exceed this threshold; if no peaks\n",
    "meet this criterion then the threshold is lowered until we find at\n",
    "least three peaks. We then measure the time between successive\n",
    "peaks and calculate the average. For samples where at least three\n",
    "peaks could not be found, the time between peaks is marked as\n",
    "unknown. This method was able to accurately find the time\n",
    "between peaks for the activities that had a clear repetitive pattern,\n",
    "like walking and jogging. Certainly more sophisticated schemes\n",
    "will be tried in the future. "
   ]
  },
  {
   "cell_type": "markdown",
   "metadata": {},
   "source": [
    "Using a peak detection package: http://nbviewer.jupyter.org/github/demotu/BMC/blob/master/notebooks/DetectPeaks.ipynb"
   ]
  },
  {
   "cell_type": "code",
   "execution_count": 2,
   "metadata": {},
   "outputs": [],
   "source": [
    "from detect_peaks import detect_peaks\n"
   ]
  },
  {
   "cell_type": "code",
   "execution_count": 206,
   "metadata": {},
   "outputs": [],
   "source": [
    "#method to find minimum 3 top peaks and return mean time difference\n",
    "def mean_time_between_peaks(data,timestamps, min_num_peaks):\n",
    "    #set new local index starting from 0 to len(data)\n",
    "    local_index = range(0,len(data))\n",
    "    data.index = local_index\n",
    "    timestamps.index = local_index\n",
    "    \n",
    "    #determine indices of all local peaks\n",
    "    peak_index = detect_peaks(data)\n",
    "    #determine the peak with max value\n",
    "    peak_max = data[peak_index].max()\n",
    "    #search for factor that results in minimally 3 peaks\n",
    "    for i in [0.1,0.2,0.3,0.4,0.5,0.6,0.7,0.8,0.9,1]:\n",
    "        #recalculate peaks with maximum peak height limited. \n",
    "        peak_index = detect_peaks(data, mph = peak_max-peak_max*i)\n",
    "        \n",
    "        if len(peak_index) < min_num_peaks:\n",
    "            continue\n",
    "        if len(peak_index) >= min_num_peaks:\n",
    "            break #stop when enough peaks are present. \n",
    "    if len(peak_index) != 0:\n",
    "        #calculate peak values & timestamps \n",
    "        peak_values = data[peak_index]\n",
    "        peak_timestamps = timestamps[peak_index]\n",
    "        #calculate time difference between peaks\n",
    "        time_differences = np.diff(peak_timestamps,n=1)\n",
    "        #calculate the mean difference between peaks\n",
    "        mean_time_between_peaks = time_differences.mean()\n",
    "    else:\n",
    "        mean_time_between_peaks = None\n",
    "    return mean_time_between_peaks"
   ]
  },
  {
   "cell_type": "code",
   "execution_count": 208,
   "metadata": {},
   "outputs": [],
   "source": [
    "#create a list with mtbp for 3 axis for every window in wdws\n",
    "temp_tbp_list =[(mean_time_between_peaks(wdws[i].x,wdws[i].timestamp, 3),mean_time_between_peaks(wdws[i].y,wdws[i].timestamp, 3),mean_time_between_peaks(wdws[i].z,wdws[i].timestamp, 3)) for i in range(0,len(wdws))]"
   ]
  },
  {
   "cell_type": "code",
   "execution_count": 209,
   "metadata": {},
   "outputs": [],
   "source": [
    "tbp_df = pd.DataFrame(temp_tbp_list, columns= ['tbp_x','tbp_y','tbp_z'])"
   ]
  },
  {
   "cell_type": "code",
   "execution_count": 215,
   "metadata": {},
   "outputs": [],
   "source": [
    "#concatenate mean_df to feat_df\n",
    "feat_df = pd.concat([feat_df,tbp_df], axis=1)"
   ]
  },
  {
   "cell_type": "markdown",
   "metadata": {},
   "source": [
    "### save and load files"
   ]
  },
  {
   "cell_type": "code",
   "execution_count": 233,
   "metadata": {},
   "outputs": [],
   "source": [
    "#feat_df.to_csv('data_after_tbp.csv',index = False)"
   ]
  },
  {
   "cell_type": "code",
   "execution_count": 5,
   "metadata": {},
   "outputs": [],
   "source": [
    "feat_df = pd.read_csv('data_after_tbp.csv')"
   ]
  },
  {
   "cell_type": "code",
   "execution_count": 6,
   "metadata": {},
   "outputs": [],
   "source": [
    "IDX_TO_LABELS = pd.read_csv('IDX_TO_LABELS.csv').as_matrix()"
   ]
  },
  {
   "cell_type": "markdown",
   "metadata": {
    "collapsed": true
   },
   "source": [
    "## Training random tree forest."
   ]
  },
  {
   "cell_type": "markdown",
   "metadata": {},
   "source": [
    "### Preparing feature dataframe for training"
   ]
  },
  {
   "cell_type": "code",
   "execution_count": 7,
   "metadata": {
    "collapsed": true
   },
   "outputs": [],
   "source": [
    "from sklearn.model_selection import train_test_split"
   ]
  },
  {
   "cell_type": "code",
   "execution_count": 8,
   "metadata": {
    "collapsed": true
   },
   "outputs": [],
   "source": [
    "X = feat_df.fillna(0) #load feature data and convert NaN to 0"
   ]
  },
  {
   "cell_type": "code",
   "execution_count": 9,
   "metadata": {},
   "outputs": [],
   "source": [
    "X = X.as_matrix() #convert to numpy array"
   ]
  },
  {
   "cell_type": "code",
   "execution_count": 10,
   "metadata": {
    "collapsed": true
   },
   "outputs": [],
   "source": [
    "y = pd.read_csv('y.csv') #load label data"
   ]
  },
  {
   "cell_type": "code",
   "execution_count": 11,
   "metadata": {},
   "outputs": [],
   "source": [
    "y = y.as_matrix() #convert to numpy array"
   ]
  },
  {
   "cell_type": "code",
   "execution_count": 14,
   "metadata": {},
   "outputs": [],
   "source": [
    "X_train,X_test, y_train,y_test = train_test_split(X, y, test_size = 0.3, shuffle=True) #split into train and test set. "
   ]
  },
  {
   "cell_type": "markdown",
   "metadata": {},
   "source": [
    "### training & prediction"
   ]
  },
  {
   "cell_type": "code",
   "execution_count": 15,
   "metadata": {},
   "outputs": [],
   "source": [
    "from sklearn.ensemble import RandomForestClassifier\n",
    "from sklearn import datasets, linear_model\n"
   ]
  },
  {
   "cell_type": "raw",
   "metadata": {
    "collapsed": true
   },
   "source": [
    "RandomForestClassifier creates multiple weak classification trees to combine to an ensemble strong classifier that avoids overfitting. \n",
    "\n",
    "Hyperparameters:\n",
    "k = number of trees. Larger k usually increases performance at the cost of computational effort. \n",
    "\n",
    "n = size of bootstrap sample size to train each tree. (default, equal to the ammount of samples in the training set)\n",
    "\n",
    "d = sqrt(m) (default, must never exceed m) \n",
    "    d:the ammount of features at each split\n",
    "    m:the ammount of features in the training set. \n"
   ]
  },
  {
   "cell_type": "code",
   "execution_count": 16,
   "metadata": {
    "collapsed": true
   },
   "outputs": [],
   "source": [
    "# create and compile the model\n",
    "forest = RandomForestClassifier(criterion='entropy',n_estimators=40)"
   ]
  },
  {
   "cell_type": "code",
   "execution_count": 17,
   "metadata": {},
   "outputs": [
    {
     "name": "stderr",
     "output_type": "stream",
     "text": [
      "/home/ubuntu/anaconda2/lib/python2.7/site-packages/ipykernel/__main__.py:2: DataConversionWarning: A column-vector y was passed when a 1d array was expected. Please change the shape of y to (n_samples,), for example using ravel().\n",
      "  from ipykernel import kernelapp as app\n"
     ]
    },
    {
     "data": {
      "text/plain": [
       "RandomForestClassifier(bootstrap=True, class_weight=None, criterion='entropy',\n",
       "            max_depth=None, max_features='auto', max_leaf_nodes=None,\n",
       "            min_impurity_decrease=0.0, min_impurity_split=None,\n",
       "            min_samples_leaf=1, min_samples_split=2,\n",
       "            min_weight_fraction_leaf=0.0, n_estimators=40, n_jobs=1,\n",
       "            oob_score=False, random_state=None, verbose=0,\n",
       "            warm_start=False)"
      ]
     },
     "execution_count": 17,
     "metadata": {},
     "output_type": "execute_result"
    }
   ],
   "source": [
    "#fit the training data\n",
    "forest.fit(X_train,y_train)"
   ]
  },
  {
   "cell_type": "code",
   "execution_count": 18,
   "metadata": {},
   "outputs": [],
   "source": [
    "y_test_pred = forest.predict(X_test)"
   ]
  },
  {
   "cell_type": "code",
   "execution_count": 19,
   "metadata": {
    "collapsed": true
   },
   "outputs": [],
   "source": [
    "from sklearn.metrics import confusion_matrix"
   ]
  },
  {
   "cell_type": "code",
   "execution_count": 20,
   "metadata": {},
   "outputs": [],
   "source": [
    "#cm = np.zeros([len(LABELS_TO_IDX), len(LABELS_TO_IDX)])\n",
    "cm = confusion_matrix(y_test, y_test_pred)"
   ]
  },
  {
   "cell_type": "code",
   "execution_count": 21,
   "metadata": {},
   "outputs": [
    {
     "data": {
      "text/html": [
       "<div>\n",
       "<style>\n",
       "    .dataframe thead tr:only-child th {\n",
       "        text-align: right;\n",
       "    }\n",
       "\n",
       "    .dataframe thead th {\n",
       "        text-align: left;\n",
       "    }\n",
       "\n",
       "    .dataframe tbody tr th {\n",
       "        vertical-align: top;\n",
       "    }\n",
       "</style>\n",
       "<table border=\"1\" class=\"dataframe\">\n",
       "  <thead>\n",
       "    <tr style=\"text-align: right;\">\n",
       "      <th></th>\n",
       "      <th>(Walking,)</th>\n",
       "      <th>(Jogging,)</th>\n",
       "      <th>(Upstairs,)</th>\n",
       "      <th>(Downstairs,)</th>\n",
       "      <th>(Standing,)</th>\n",
       "      <th>(Sitting,)</th>\n",
       "    </tr>\n",
       "  </thead>\n",
       "  <tbody>\n",
       "    <tr>\n",
       "      <th>(Walking,)</th>\n",
       "      <td>1212</td>\n",
       "      <td>1</td>\n",
       "      <td>8</td>\n",
       "      <td>5</td>\n",
       "      <td>0</td>\n",
       "      <td>0</td>\n",
       "    </tr>\n",
       "    <tr>\n",
       "      <th>(Jogging,)</th>\n",
       "      <td>7</td>\n",
       "      <td>993</td>\n",
       "      <td>0</td>\n",
       "      <td>0</td>\n",
       "      <td>0</td>\n",
       "      <td>0</td>\n",
       "    </tr>\n",
       "    <tr>\n",
       "      <th>(Upstairs,)</th>\n",
       "      <td>38</td>\n",
       "      <td>17</td>\n",
       "      <td>270</td>\n",
       "      <td>21</td>\n",
       "      <td>1</td>\n",
       "      <td>0</td>\n",
       "    </tr>\n",
       "    <tr>\n",
       "      <th>(Downstairs,)</th>\n",
       "      <td>47</td>\n",
       "      <td>4</td>\n",
       "      <td>21</td>\n",
       "      <td>212</td>\n",
       "      <td>2</td>\n",
       "      <td>0</td>\n",
       "    </tr>\n",
       "    <tr>\n",
       "      <th>(Standing,)</th>\n",
       "      <td>0</td>\n",
       "      <td>0</td>\n",
       "      <td>0</td>\n",
       "      <td>0</td>\n",
       "      <td>146</td>\n",
       "      <td>1</td>\n",
       "    </tr>\n",
       "    <tr>\n",
       "      <th>(Sitting,)</th>\n",
       "      <td>0</td>\n",
       "      <td>0</td>\n",
       "      <td>1</td>\n",
       "      <td>0</td>\n",
       "      <td>3</td>\n",
       "      <td>170</td>\n",
       "    </tr>\n",
       "  </tbody>\n",
       "</table>\n",
       "</div>"
      ],
      "text/plain": [
       "               (Walking,)  (Jogging,)  (Upstairs,)  (Downstairs,)  \\\n",
       "(Walking,)           1212           1            8              5   \n",
       "(Jogging,)              7         993            0              0   \n",
       "(Upstairs,)            38          17          270             21   \n",
       "(Downstairs,)          47           4           21            212   \n",
       "(Standing,)             0           0            0              0   \n",
       "(Sitting,)              0           0            1              0   \n",
       "\n",
       "               (Standing,)  (Sitting,)  \n",
       "(Walking,)               0           0  \n",
       "(Jogging,)               0           0  \n",
       "(Upstairs,)              1           0  \n",
       "(Downstairs,)            2           0  \n",
       "(Standing,)            146           1  \n",
       "(Sitting,)               3         170  "
      ]
     },
     "execution_count": 21,
     "metadata": {},
     "output_type": "execute_result"
    }
   ],
   "source": [
    "np_confusion = confusion_matrix(y_test, y_test_pred)\n",
    "pd_confusion = pd.DataFrame(np_confusion, index= IDX_TO_LABELS,columns=IDX_TO_LABELS)\n",
    "pd_confusion"
   ]
  },
  {
   "cell_type": "code",
   "execution_count": 22,
   "metadata": {
    "collapsed": true
   },
   "outputs": [],
   "source": [
    "from sklearn.metrics import accuracy_score"
   ]
  },
  {
   "cell_type": "code",
   "execution_count": 23,
   "metadata": {},
   "outputs": [
    {
     "data": {
      "text/plain": [
       "'The normalized accuracy is :0.944339622642'"
      ]
     },
     "execution_count": 23,
     "metadata": {},
     "output_type": "execute_result"
    }
   ],
   "source": [
    "'The normalized accuracy is :' + str(accuracy_score(y_true = y_test, y_pred = y_test_pred,normalize = True ))"
   ]
  },
  {
   "cell_type": "markdown",
   "metadata": {},
   "source": [
    "Conclusions: \n",
    "It was found that randomizing the input data was abolsutely critical to obtaining areasonable result when using random forest trees.Therefore the data was randomized and and split into a training and testing dataset. \n",
    "\n",
    "The results is too optimistic because the training was done on all training data, meaning all users. Therefore we need to split the data per user and train and evalute the model on segregated data based on users. \n",
    "\n",
    "Another option would be tocreate a sytem that needs to be calibrated by the user. "
   ]
  },
  {
   "cell_type": "markdown",
   "metadata": {
    "collapsed": true
   },
   "source": [
    "### split by user"
   ]
  },
  {
   "cell_type": "code",
   "execution_count": 25,
   "metadata": {
    "collapsed": true
   },
   "outputs": [],
   "source": [
    "# What number of users are there. "
   ]
  },
  {
   "cell_type": "code",
   "execution_count": 12,
   "metadata": {
    "collapsed": true
   },
   "outputs": [],
   "source": [
    "ids = pd.read_csv('ids.csv') # load ids "
   ]
  },
  {
   "cell_type": "code",
   "execution_count": 13,
   "metadata": {},
   "outputs": [
    {
     "data": {
      "text/plain": [
       "'There are 36 unique users. Starting at 1 and last value 36.'"
      ]
     },
     "execution_count": 13,
     "metadata": {},
     "output_type": "execute_result"
    }
   ],
   "source": [
    "'There are ' + str(len(ids.iloc[:,0].unique())) + ' unique users. Starting at 1 and last value 36.'"
   ]
  },
  {
   "cell_type": "markdown",
   "metadata": {},
   "source": [
    "We want to exclude 2 users from the selection."
   ]
  },
  {
   "cell_type": "code",
   "execution_count": 1,
   "metadata": {},
   "outputs": [
    {
     "ename": "NameError",
     "evalue": "name 'pd' is not defined",
     "output_type": "error",
     "traceback": [
      "\u001b[0;31m---------------------------------------------------------------------------\u001b[0m",
      "\u001b[0;31mNameError\u001b[0m                                 Traceback (most recent call last)",
      "\u001b[0;32m<ipython-input-1-e596b26a1f01>\u001b[0m in \u001b[0;36m<module>\u001b[0;34m()\u001b[0m\n\u001b[1;32m      1\u001b[0m \u001b[0;31m#Load data\u001b[0m\u001b[0;34m\u001b[0m\u001b[0;34m\u001b[0m\u001b[0m\n\u001b[1;32m      2\u001b[0m \u001b[0;31m#y\u001b[0m\u001b[0;34m\u001b[0m\u001b[0;34m\u001b[0m\u001b[0m\n\u001b[0;32m----> 3\u001b[0;31m \u001b[0my\u001b[0m \u001b[0;34m=\u001b[0m \u001b[0mpd\u001b[0m\u001b[0;34m.\u001b[0m\u001b[0mread_csv\u001b[0m\u001b[0;34m(\u001b[0m\u001b[0;34m'y.csv'\u001b[0m\u001b[0;34m)\u001b[0m \u001b[0;31m#load label data\u001b[0m\u001b[0;34m\u001b[0m\u001b[0m\n\u001b[0m\u001b[1;32m      4\u001b[0m \u001b[0my\u001b[0m \u001b[0;34m=\u001b[0m \u001b[0my\u001b[0m\u001b[0;34m.\u001b[0m\u001b[0mas_matrix\u001b[0m\u001b[0;34m(\u001b[0m\u001b[0;34m)\u001b[0m \u001b[0;31m#convert to numpy array\u001b[0m\u001b[0;34m\u001b[0m\u001b[0m\n\u001b[1;32m      5\u001b[0m \u001b[0;34m\u001b[0m\u001b[0m\n",
      "\u001b[0;31mNameError\u001b[0m: name 'pd' is not defined"
     ]
    }
   ],
   "source": [
    "#Load data\n",
    "#y\n",
    "y = pd.read_csv('y.csv') #load label data\n",
    "y = y.as_matrix() #convert to numpy array\n",
    "\n",
    "#X\n",
    "feat_df = pd.read_csv('data_after_tbp.csv')\n",
    "X = feat_df.fillna(0) #load feature data and convert NaN to 0\n",
    "X = X.as_matrix() #convert to numpy array\n",
    "\n",
    "#id's\n",
    "ids = pd.read_csv('ids.csv') # load ids \n",
    "ids= ids.as_matrix()"
   ]
  },
  {
   "cell_type": "markdown",
   "metadata": {},
   "source": [
    "We will use X, y and ids to perform a K-fold group split. Every group corresponds to 1 specific user. "
   ]
  },
  {
   "cell_type": "code",
   "execution_count": 28,
   "metadata": {},
   "outputs": [],
   "source": [
    "from sklearn.model_selection import GroupKFold\n",
    "def fold_gen_method(): #This method generates an iterator/generator that returns 1 fold every time in the form of a train index slice and a test index slice. Every fold corresponds to a user\n",
    "    # Global Variable for the ammount of users\n",
    "    UNQ_USERS = len(pd.DataFrame(ids).iloc[:,0].unique())\n",
    "    groups = ids # The groups argument to use to fold the dataset per user. \n",
    "    group_kfold = GroupKFold(n_splits=UNQ_USERS) # Creates a groupKFold constructor object.\n",
    "    group_kfold.get_n_splits(X,y,groups) # Apply the constructor to our data. \n",
    "    fold_gen = group_kfold.split(X,y,groups) #This method generates an iterator/generator that returns 1 fold every time in the form of a train index slice and a test index slice\n",
    "    return fold_gen"
   ]
  },
  {
   "cell_type": "code",
   "execution_count": 29,
   "metadata": {
    "collapsed": true
   },
   "outputs": [],
   "source": [
    "from sklearn.ensemble import RandomForestClassifier\n",
    "from sklearn.metrics import accuracy_score"
   ]
  },
  {
   "cell_type": "markdown",
   "metadata": {},
   "source": [
    "### fit, predict and validate\n",
    "Iterate over the K folds and predict a accuracy for every model and calculate the mean preciction\n"
   ]
  },
  {
   "cell_type": "code",
   "execution_count": 57,
   "metadata": {},
   "outputs": [],
   "source": [
    "def mean_std_forest_acc(fold_gen,X,y,n_estimators):\n",
    "    # Iterate over the K folds and predict a accuracy for every model and calculate the mean preciction\n",
    "    acc_vector = np.array([])\n",
    "    for train_idx, test_idx in fold_gen: \n",
    "        # Create model\n",
    "        forest = RandomForestClassifier(criterion='entropy',n_estimators=n_estimators)\n",
    "        # Set local X_train; y_train; X_test; y_test\n",
    "        X_train = X[train_idx]\n",
    "        y_train = y[train_idx]\n",
    "        X_test = X[test_idx]\n",
    "        y_test = y[test_idx]\n",
    "        # Fit model on train_index\n",
    "        forest.fit(X_train,y_train)\n",
    "        # Predict on test_idx\n",
    "        y_test_pred = forest.predict(X_test)\n",
    "        # calculate accuracy & append to vector\n",
    "        acc = accuracy_score(y_true = y_test, y_pred = y_test_pred,normalize = True )\n",
    "        acc_vector = np.append(acc_vector,acc)\n",
    "    #Calculate mean accuracy\n",
    "    mean_acc = np.mean(acc_vector)\n",
    "    std_dev = np.std(acc_vector)\n",
    "    return mean_acc,std_dev"
   ]
  },
  {
   "cell_type": "code",
   "execution_count": 53,
   "metadata": {},
   "outputs": [
    {
     "name": "stderr",
     "output_type": "stream",
     "text": [
      "/home/ubuntu/anaconda2/lib/python2.7/site-packages/ipykernel/__main__.py:13: DataConversionWarning: A column-vector y was passed when a 1d array was expected. Please change the shape of y to (n_samples,), for example using ravel().\n"
     ]
    },
    {
     "name": "stdout",
     "output_type": "stream",
     "text": [
      "The mean accuracy of the model is: 0.773228807771 +/- 0.17166229668\n"
     ]
    }
   ],
   "source": [
    "fold_gen = fold_gen_method()\n",
    "mean_acc, std_dev = mean_std_forest_acc(fold_gen,X,y,n_estimators = 40) #36-fold cross validation grouped by users. \n",
    "print('The mean accuracy of the model is: ' + str(mean_acc) + ' +/- ' + str(std_dev))"
   ]
  },
  {
   "cell_type": "markdown",
   "metadata": {},
   "source": [
    "### Conclusions"
   ]
  },
  {
   "cell_type": "markdown",
   "metadata": {},
   "source": [
    "The original esitmation of the accuracy without k-fold cross validation obtained a result of 0.94. This was an overestimation because the model was only validated on a single set. When evaluating the accuracy of the algorithm by means of 36-fold crossvalidation and stratification by user, we find that the original accuracy of the random tree forest is only  0.77 +/- 0.17."
   ]
  },
  {
   "cell_type": "markdown",
   "metadata": {},
   "source": [
    "### Hyperparameter variation."
   ]
  },
  {
   "cell_type": "markdown",
   "metadata": {
    "collapsed": true
   },
   "source": [
    "The most important hyperparameter is the ammount of trees n_estimators. The curve below plot a variation of this parameter for n_estimators = [1,20,40,60,80,100]."
   ]
  },
  {
   "cell_type": "code",
   "execution_count": 58,
   "metadata": {},
   "outputs": [
    {
     "name": "stderr",
     "output_type": "stream",
     "text": [
      "/home/ubuntu/anaconda2/lib/python2.7/site-packages/ipykernel/__main__.py:13: DataConversionWarning: A column-vector y was passed when a 1d array was expected. Please change the shape of y to (n_samples,), for example using ravel().\n"
     ]
    },
    {
     "name": "stdout",
     "output_type": "stream",
     "text": [
      "0.686898125023 +/- 0.161740848283\n",
      "0.764764113163 +/- 0.173188775841\n",
      "0.7797807859 +/- 0.164930406086\n",
      "0.776029051056 +/- 0.166611260281\n",
      "0.776266502181 +/- 0.169747444689\n",
      "0.773443255506 +/- 0.174410266142\n"
     ]
    }
   ],
   "source": [
    "mean_acc_array= np.array([])\n",
    "n_estimator_array = [1,20,40,60,80,100]\n",
    "for n_estimators in n_estimator_array:\n",
    "    fold_gen = fold_gen_method()\n",
    "    mean_acc, std_dev = mean_std_forest_acc(fold_gen,X,y,n_estimators = n_estimators)\n",
    "    mean_acc_array = np.append(mean_acc_array,mean_acc)\n",
    "    print(str(mean_acc) +' +/- ' + str(std_dev))"
   ]
  },
  {
   "cell_type": "markdown",
   "metadata": {},
   "source": [
    "### Conclusions\n",
    "From the above we find that the optimal ammount of trees in the forest is 40. "
   ]
  },
  {
   "cell_type": "code",
   "execution_count": 61,
   "metadata": {},
   "outputs": [
    {
     "data": {
      "text/plain": [
       "<matplotlib.text.Text at 0x7fb0cb5147d0>"
      ]
     },
     "execution_count": 61,
     "metadata": {},
     "output_type": "execute_result"
    },
    {
     "data": {
      "image/png": "[encoded data removed]",
      "text/plain": [
       "<matplotlib.figure.Figure at 0x7fb0cb57e890>"
      ]
     },
     "metadata": {},
     "output_type": "display_data"
    }
   ],
   "source": [
    "plt.plot(n_estimator_array,mean_acc_array)\n",
    "plt.xlabel('n_estimator')\n",
    "plt.ylabel('accuracy')"
   ]
  },
  {
   "cell_type": "markdown",
   "metadata": {
    "collapsed": true
   },
   "source": [
    "# SVM implementation"
   ]
  },
  {
   "cell_type": "markdown",
   "metadata": {},
   "source": [
    "## kernel = Linear"
   ]
  },
  {
   "cell_type": "markdown",
   "metadata": {},
   "source": [
    "### loading all data"
   ]
  },
  {
   "cell_type": "code",
   "execution_count": 46,
   "metadata": {},
   "outputs": [],
   "source": [
    "import numpy as np\n",
    "import pandas as pd\n",
    "import matplotlib.pyplot as plt\n",
    "from sklearn.svm import SVC\n",
    "from sklearn.preprocessing import RobustScaler\n",
    "from sklearn.metrics import accuracy_score\n",
    "from mlxtend.plotting import plot_decision_regions\n",
    "%matplotlib inline\n",
    "\n",
    "#Load data\n",
    "#y\n",
    "y = pd.read_csv('y.csv') #load label data\n",
    "y = y.as_matrix() #convert to numpy array\n",
    "\n",
    "#X\n",
    "feat_df = pd.read_csv('data_after_tbp.csv')\n",
    "X = feat_df.fillna(0) #load feature data and convert NaN to 0\n",
    "X = X.as_matrix() #convert to numpy array\n",
    "\n",
    "#id's\n",
    "ids = pd.read_csv('ids.csv') # load ids \n",
    "ids= ids.as_matrix()"
   ]
  },
  {
   "cell_type": "code",
   "execution_count": 38,
   "metadata": {},
   "outputs": [],
   "source": [
    "#Calculate a K-fold iterator with folds between the users. ( object return indices)\n",
    "fold_gen = fold_gen_method()"
   ]
  },
  {
   "cell_type": "markdown",
   "metadata": {},
   "source": [
    "Scaling:\n",
    "\n",
    "It turns out that the scaling of the features is crucial for the SVM to succeed in training on the data for both accuracy and computation time. \n",
    "\n",
    "It matters for computation time because the kernels of SVM's are often dependent on in products of feature vectors. Large feature values will ammount to very large values being multiplied. \n",
    "\n",
    "It matters for accuracy because in SVM you try to maximize the distance between the seperator and the support vectors. If some features are much larger they will have a larger impact on the calculated distance and hence on the placing of the seperation line. "
   ]
  },
  {
   "cell_type": "code",
   "execution_count": 39,
   "metadata": {},
   "outputs": [],
   "source": [
    "def mean_std_linsvm_acc(fold_gen,X,y,C):\n",
    "    # Iterate over the K folds and predict a accuracy for every model and calculate the mean preciction\n",
    "    acc_vector = np.array([])\n",
    "    for train_idx, test_idx in fold_gen: \n",
    "        # Create model\n",
    "        global svm\n",
    "        svm = SVC(kernel='linear',C=C, random_state=0)\n",
    "        # Set local X_train; y_train; X_test; y_test\n",
    "        scaler = RobustScaler() #scale training data\n",
    "        global X_train\n",
    "        X_train = scaler.fit_transform(X[train_idx])\n",
    "        global y_train\n",
    "        y_train = y[train_idx]\n",
    "        global X_test\n",
    "        X_test = scaler.fit_transform(X[test_idx])\n",
    "        global y_test\n",
    "        y_test = y[test_idx]\n",
    "\n",
    "        # Fit model on train_index\n",
    "        svm.fit(X_train,y_train)\n",
    "        # Predict on test_idx\n",
    "        y_test_pred = svm.predict(X_test)\n",
    "        # calculate accuracy & append to vector\n",
    "        acc = accuracy_score(y_true = y_test, y_pred = y_test_pred,normalize = True )\n",
    "        acc_vector = np.append(acc_vector,acc)\n",
    "    #Calculate mean accuracy\n",
    "    mean_acc = np.mean(acc_vector)\n",
    "    std_dev = np.std(acc_vector)\n",
    "    return mean_acc,std_dev"
   ]
  },
  {
   "cell_type": "code",
   "execution_count": 40,
   "metadata": {},
   "outputs": [
    {
     "name": "stdout",
     "output_type": "stream",
     "text": [
      "The mean accuracy of the model is: 0.722753996393 +/- 0.112557714223\n"
     ]
    }
   ],
   "source": [
    "mean_acc, std_dev = mean_std_linsvm_acc(fold_gen,X,y,C=1) #36-fold cross validation grouped by users. \n",
    "print('The mean accuracy of the model is: ' + str(mean_acc) + ' +/- ' + str(std_dev))"
   ]
  },
  {
   "cell_type": "markdown",
   "metadata": {
    "scrolled": true
   },
   "source": [
    "### Variation of hyperparameter C"
   ]
  },
  {
   "cell_type": "markdown",
   "metadata": {},
   "source": [
    "c is the inverse of the relaxation factor."
   ]
  },
  {
   "cell_type": "code",
   "execution_count": 61,
   "metadata": {},
   "outputs": [
    {
     "name": "stdout",
     "output_type": "stream",
     "text": [
      "0.718802117341 +/- 0.112499474335\n",
      "0.711576335419 +/- 0.111891906698\n",
      "0.711019812892 +/- 0.111415882812\n",
      "0.722753996393 +/- 0.112557714223\n",
      "0.723751793466 +/- 0.121128956954\n",
      "0.720660697227 +/- 0.127198149091\n",
      "0.719154815163 +/- 0.128437115824\n"
     ]
    }
   ],
   "source": [
    "mean_acc_array= np.array([])\n",
    "c_array = [0.001,0.01,0.1,1,2,3,4]\n",
    "for c in c_array:\n",
    "    fold_gen = fold_gen_method()\n",
    "    mean_acc, std_dev = mean_std_linsvm_acc(fold_gen,X,y,C = c)\n",
    "    mean_acc_array = np.append(mean_acc_array,mean_acc)\n",
    "    print(str(mean_acc) +' +/- ' + str(std_dev))"
   ]
  },
  {
   "cell_type": "raw",
   "metadata": {
    "collapsed": true
   },
   "source": [
    "TODO \n",
    "SVM: -linear, - other kernel\n",
    "feature NEURAL: 2 layer, multiple architectures. \n",
    "actual neural : we will probably need to broaden the window significantly, without transfer learning/with transfer learning\n"
   ]
  },
  {
   "cell_type": "code",
   "execution_count": null,
   "metadata": {},
   "outputs": [],
   "source": []
  },
  {
   "cell_type": "code",
   "execution_count": null,
   "metadata": {},
   "outputs": [],
   "source": []
  },
  {
   "cell_type": "code",
   "execution_count": null,
   "metadata": {
    "collapsed": true
   },
   "outputs": [],
   "source": []
  }
 ],
 "metadata": {
  "anaconda-cloud": {},
  "kernelspec": {
   "display_name": "Python [conda env:python2]",
   "language": "python",
   "name": "conda-env-python2-py"
  },
  "language_info": {
   "codemirror_mode": {
    "name": "ipython",
    "version": 2
   },
   "file_extension": ".py",
   "mimetype": "text/x-python",
   "name": "python",
   "nbconvert_exporter": "python",
   "pygments_lexer": "ipython2",
   "version": "2.7.15"
  }
 },
 "nbformat": 4,
 "nbformat_minor": 1
}
